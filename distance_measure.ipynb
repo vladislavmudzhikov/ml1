{
 "cells": [
  {
   "cell_type": "code",
   "execution_count": 1,
   "id": "1d11286a",
   "metadata": {},
   "outputs": [],
   "source": [
    "%load_ext autoreload\n",
    "%autoreload 2"
   ]
  },
  {
   "cell_type": "markdown",
   "id": "604a6476",
   "metadata": {},
   "source": [
    "**`схема семестра. что к чему.`**"
   ]
  },
  {
   "cell_type": "code",
   "execution_count": null,
   "id": "d1f2be13",
   "metadata": {},
   "outputs": [],
   "source": []
  },
  {
   "cell_type": "markdown",
   "id": "cc768569",
   "metadata": {},
   "source": [
    "# Как выбрать функцию близости\n",
    "\n",
    "### План:\n",
    "- классические функции близости на данных из датафрейма и их особенности \n",
    "    - bool\n",
    "    - float\n",
    "    - int\n",
    "    - datetime\n",
    "    - множества\n",
    "    - string\n",
    "\n",
    "\n",
    "- кастомные функции близости\n",
    "    - categorical\n",
    "    - обработка специальных значений\n",
    "\n",
    "\n",
    "- композиция функций близости\n",
    "\n",
    "\n",
    "- *функции близости на всем остальном\n",
    "\n",
    "\n",
    "- *metric learning"
   ]
  },
  {
   "cell_type": "code",
   "execution_count": null,
   "id": "3401ea7e",
   "metadata": {},
   "outputs": [],
   "source": []
  },
  {
   "cell_type": "markdown",
   "id": "a78b5eba",
   "metadata": {},
   "source": [
    "## Классические функции близости\n",
    "\n",
    "свойства метрики:\n",
    "1) симметричность\n",
    "\n",
    "2) $\\rho(x, y) > 0$ при $x <> y$\n",
    "\n",
    "3) $\\rho(x, x) = 0$\n",
    "\n",
    "4) неравенство треугольника:\n",
    "    $\\rho(x,z) <= \\rho(x, y) + \\rho(y, z)$\n",
    "    \n",
    "<br><br>\n",
    "    \n",
    "нам не нужны именно **метрики**, мы будем говорить о **функциях близости** (ФБ) со свойством симметричности на скалярах\n",
    "    и векторах.\n",
    "    \n",
    "\n",
    "    \n",
    "[Пост с хорошими картинками и описанием классических ФБ](https://www.maartengrootendorst.com/blog/distances/)\n",
    "(оттуда натырил картинок)\n",
    "\n",
    "<br>\n",
    "\n",
    "### `bool`\n",
    "\n",
    "**`True` vs `False`**\n",
    "\n",
    "В первом приближении два була могут либо совпадать, либо не совпадать, поэтому расстояние между скалярами либо 1, либо 0.\n",
    "\n",
    "Расстояние между векторами. `Hamming distance` - количество расхождений в векторах одинаковой длины\n",
    "\n",
    "<img src='https://www.maartengrootendorst.com/assets/images/posts/2021-01-02-distances/hamming.png'>"
   ]
  },
  {
   "cell_type": "code",
   "execution_count": 1,
   "id": "e7144a63",
   "metadata": {},
   "outputs": [
    {
     "data": {
      "image/png": "[encoded data removed]",
      "text/plain": [
       "<Figure size 1296x288 with 3 Axes>"
      ]
     },
     "metadata": {
      "needs_background": "light"
     },
     "output_type": "display_data"
    }
   ],
   "source": [
    "import numpy as np\n",
    "from scipy.spatial.distance import cdist # считает попарные расстояния\n",
    "import matplotlib.pyplot as plt\n",
    "\n",
    "\n",
    "def make_random_data_return_distances_bool(n=1000, d=100):\n",
    "    '''\n",
    "    делает n случайных булевых вектора размерности d, считает попарные hamming distance и возвращает их\n",
    "    \n",
    "    returns: попарные hamming distances в виде np.array of shape (n,)\n",
    "    '''\n",
    "    X = np.random.randint(0, 2, size=(n, d))\n",
    "    distances = cdist(X, X, 'hamming')\n",
    "    return distances.ravel() * d\n",
    "\n",
    "def plot_hist(data, bins=33, title=None, xlim=None, ax=None, **hist_kwargs):\n",
    "    if ax is None:\n",
    "        fig, ax = plt.subplots()\n",
    "    \n",
    "    ax.set_title(title, fontsize=17)\n",
    "    ax.hist(data, bins=bins, **hist_kwargs)\n",
    "    ax.tick_params('x', labelsize=15)\n",
    "    ax.tick_params('y', labelsize=0)\n",
    "    ax.set_xlim(xlim)\n",
    "    \n",
    "fig, ax = plt.subplot_mosaic([[30, 100, 1000]], figsize=(18, 4))\n",
    "for d in [30, 100, 1000]:\n",
    "    distances = make_random_data_return_distances_bool(d=d)\n",
    "    plot_hist(distances, bins=int(d/2), title=f'hamming, d={d}', xlim=(0, d), ax=ax[d])\n",
    "\n",
    "fig.tight_layout()"
   ]
  },
  {
   "cell_type": "markdown",
   "id": "ec652167",
   "metadata": {},
   "source": [
    "это серия независимых испытаний Бернулли, поэтому распределение расстояний - биномиальное распределение с p=0.5"
   ]
  },
  {
   "cell_type": "code",
   "execution_count": null,
   "id": "f2c9cc7a",
   "metadata": {},
   "outputs": [],
   "source": []
  },
  {
   "cell_type": "markdown",
   "id": "93d22db0",
   "metadata": {},
   "source": [
    "### continuous `float`\n",
    "\n",
    "**`77.2` vs `36.13`**\n",
    "\n",
    "два подхода:\n",
    "- `интуитивный` - $\\rho(vector, vector) = \\phi(\\sum \\rho(scalar, scalar))$\n",
    "    - euclidean\n",
    "        - $\\phi$ ~ $\\sqrt x$\n",
    "        - $\\rho$ ~ $(x - y)^2$ \n",
    "    - manhattan\n",
    "        - $\\phi$ ~ $x$\n",
    "        - $\\rho$ ~ $|x - y|$\n",
    "    - minkowski\n",
    "        - $\\phi$ ~ $x^{1/p}$\n",
    "        - $\\rho$ ~ $(x - y)^p$\n",
    "    \n",
    "    \n",
    "- `альтернативный` - когда подходит по смыслу к задаче\n",
    "    - cosine similarity - по углу между векторами\n",
    "    - haversine - расстояние между точками на сфере по долготе и широте\n",
    "    - коэффициенты корреляции"
   ]
  },
  {
   "cell_type": "code",
   "execution_count": 21,
   "id": "a635ee53",
   "metadata": {},
   "outputs": [
    {
     "data": {
      "image/png": "[encoded data removed]",
      "text/plain": [
       "<Figure size 1440x360 with 4 Axes>"
      ]
     },
     "metadata": {
      "needs_background": "light"
     },
     "output_type": "display_data"
    },
    {
     "name": "stdout",
     "output_type": "stream",
     "text": [
      "##############################################################################################################\n"
     ]
    },
    {
     "data": {
      "image/png": "[encoded data removed]",
      "text/plain": [
       "<Figure size 1440x360 with 4 Axes>"
      ]
     },
     "metadata": {
      "needs_background": "light"
     },
     "output_type": "display_data"
    },
    {
     "name": "stdout",
     "output_type": "stream",
     "text": [
      "##############################################################################################################\n"
     ]
    },
    {
     "data": {
      "image/png": "[encoded data removed]",
      "text/plain": [
       "<Figure size 1440x360 with 4 Axes>"
      ]
     },
     "metadata": {
      "needs_background": "light"
     },
     "output_type": "display_data"
    },
    {
     "name": "stdout",
     "output_type": "stream",
     "text": [
      "##############################################################################################################\n"
     ]
    }
   ],
   "source": [
    "def make_random_data_return_values_distances(n=1000, d=10, prob='normal', metric='euclidean', ravel=True, **metric_kwargs):\n",
    "    '''\n",
    "    prob in ['normal', 'uniform', 'lognormal']\n",
    "    metric in `scipy.spatial.distances.cdist -> metric` format\n",
    "    \n",
    "    returns: original samples, distances\n",
    "    '''\n",
    "    if prob == 'uniform':\n",
    "        X = np.random.uniform(size=(n, d))\n",
    "    elif prob == 'normal':\n",
    "        X = np.random.randn(n, d)\n",
    "    elif prob == 'lognormal':\n",
    "        X = np.random.lognormal(size=(n, d))\n",
    "    else:\n",
    "        raise NotImplementedError()\n",
    "        \n",
    "    distances = cdist(X, X, metric=metric, **metric_kwargs)\n",
    "    \n",
    "    if ravel:\n",
    "        return X.ravel(), distances.ravel()\n",
    "    return X, distances\n",
    "\n",
    "d=10\n",
    "for prob in ['normal', 'uniform', 'lognormal']:\n",
    "    mosaic = [['orig', 'euclidean', 'cityblock', 'cosine']]\n",
    "    fig, ax = plt.subplot_mosaic(mosaic, figsize=(20, 5))\n",
    "    for metric in ['euclidean', 'cityblock', 'cosine']:\n",
    "        samples, distances = make_random_data_return_values_distances(d=d, prob=prob, metric=metric)\n",
    "        if metric == 'euclidean': # только в первый раз\n",
    "            plot_hist(samples, title=f'orig: {prob}', ax=ax['orig'], color='green')\n",
    "        plot_hist(distances, bins=33, title=metric, ax=ax[metric])\n",
    "    plt.show()\n",
    "    print('#' * 110)"
   ]
  },
  {
   "cell_type": "markdown",
   "id": "8a1cc085",
   "metadata": {},
   "source": [
    "Посмотрим немного на проклятие размерности"
   ]
  },
  {
   "cell_type": "code",
   "execution_count": 7,
   "id": "1f612e24",
   "metadata": {},
   "outputs": [
    {
     "name": "stderr",
     "output_type": "stream",
     "text": [
      "100%|███████████████████████████████████████████████| 5/5 [00:51<00:00, 10.29s/it]\n",
      "100%|███████████████████████████████████████████████| 5/5 [00:51<00:00, 10.22s/it]\n",
      "100%|███████████████████████████████████████████████| 5/5 [00:59<00:00, 11.89s/it]\n"
     ]
    },
    {
     "data": {
      "image/png": "[encoded data removed]",
      "text/plain": [
       "<Figure size 1440x360 with 3 Axes>"
      ]
     },
     "metadata": {
      "needs_background": "light"
     },
     "output_type": "display_data"
    }
   ],
   "source": [
    "from tqdm import tqdm\n",
    "import matplotlib as mpl\n",
    "\n",
    "mpl.rcParams['legend.title_fontsize'] = 13\n",
    "mpl.rcParams['legend.fontsize'] = 13\n",
    "\n",
    "\n",
    "d_list = [10, 20, 50, 100, 200, 500]\n",
    "\n",
    "mosaic = [['normal', 'uniform', 'lognormal']]\n",
    "fig, ax = plt.subplot_mosaic(mosaic, figsize=(20, 5))\n",
    "for prob in ['normal', 'uniform', 'lognormal']:\n",
    "    for p in tqdm([0.5, 1, 2, 5, 10]):\n",
    "        std_list = []\n",
    "        for d in d_list:\n",
    "            _, distances = make_random_data_return_values_distances(d=d, prob=prob, metric='minkowski', p=p)\n",
    "            std_list.append(distances.std())\n",
    "        \n",
    "        ax[prob].plot(d_list, std_list, label=p)\n",
    "    \n",
    "    ax[prob].legend()\n",
    "    ax[prob].set_yscale('log')\n",
    "    ax[prob].tick_params('both', labelsize=15)\n",
    "    ax[prob].set_title(prob, fontsize=15)"
   ]
  },
  {
   "cell_type": "code",
   "execution_count": null,
   "id": "99b1f7f1",
   "metadata": {},
   "outputs": [],
   "source": []
  },
  {
   "cell_type": "markdown",
   "id": "38ed350e",
   "metadata": {},
   "source": [
    "### continuous `int`\n",
    "\n",
    "**`10` vs `117`**\n",
    "\n",
    "справедливо все то же, что и для continuous float, но обычно - `Manhattan` или `Hamming`\n",
    "\n",
    "<img src='https://www.maartengrootendorst.com/assets/images/posts/2021-01-02-distances/manhattan.png'>\n",
    "\n",
    "**Зарисовка на тему того, совпадают ли соседи при использовании различных функций близости:**"
   ]
  },
  {
   "cell_type": "code",
   "execution_count": 88,
   "id": "b35df7f1",
   "metadata": {},
   "outputs": [
    {
     "name": "stdout",
     "output_type": "stream",
     "text": [
      "доля совпадений: 0.16011\n"
     ]
    }
   ],
   "source": [
    "n = 10_000\n",
    "d = 10\n",
    "samples, _ = make_random_data_return_values_distances(n=n, d=d, ravel=False)\n",
    "\n",
    "\n",
    "from sklearn.neighbors import NearestNeighbors\n",
    "\n",
    "nn_finder_euc = NearestNeighbors(n_neighbors=10, metric='euclidean')\n",
    "nn_finder_euc.fit(samples)\n",
    "euc_neighbors = nn_finder_euc.kneighbors()\n",
    "\n",
    "\n",
    "from sklearn.neighbors import NearestNeighbors\n",
    "\n",
    "nn_finder_manh = NearestNeighbors(n_neighbors=10, metric='manhattan')\n",
    "nn_finder_manh.fit(samples)\n",
    "manh_neighbors = nn_finder_manh.kneighbors()\n",
    "\n",
    "print('доля совпадений:', (manh_neighbors[1] == euc_neighbors[1]).sum() / n / 10)"
   ]
  },
  {
   "cell_type": "code",
   "execution_count": null,
   "id": "f1afee96",
   "metadata": {},
   "outputs": [],
   "source": []
  },
  {
   "cell_type": "markdown",
   "id": "436c9b90",
   "metadata": {},
   "source": [
    "### `datetime`\n",
    "\n",
    "**`2023-03-10 16:00:00` vs `2022-10-16 14:58:20`**\n",
    "\n",
    "считаем `datetime_x - datetime_y` в днях / часах / годах / секундах и т.п. и применяем предыдущие пункты про числа"
   ]
  },
  {
   "cell_type": "code",
   "execution_count": null,
   "id": "eb3a7b64",
   "metadata": {},
   "outputs": [],
   "source": []
  },
  {
   "cell_type": "markdown",
   "id": "5ea7921d",
   "metadata": {},
   "source": [
    "### `множества`\n",
    "\n",
    "**`{1, 2, 10, 15, 21}` vs `{1, 4, 3, 10, 120}`**\n",
    "\n",
    "неупорядоченный набор элементов\n",
    "\n",
    "классика | альтернатива \n",
    "- | -\n",
    "<img src='https://www.maartengrootendorst.com/assets/images/posts/2021-01-02-distances/jaccard.png'> | <img src='https://www.maartengrootendorst.com/assets/images/posts/2021-01-02-distances/sorensen.png'>\n",
    "\n"
   ]
  },
  {
   "cell_type": "code",
   "execution_count": 93,
   "id": "367abd39",
   "metadata": {},
   "outputs": [],
   "source": [
    "# !pip install distance"
   ]
  },
  {
   "cell_type": "code",
   "execution_count": 94,
   "id": "0bfec2b4",
   "metadata": {},
   "outputs": [
    {
     "data": {
      "text/plain": [
       "(0.6, 0.75)"
      ]
     },
     "execution_count": 94,
     "metadata": {},
     "output_type": "execute_result"
    }
   ],
   "source": [
    "import distance\n",
    "\n",
    "distance.sorensen({1, 2, 10, 15, 21}, {1, 4, 3, 10, 120}), distance.jaccard({1, 2, 10, 15, 21}, {1, 4, 3, 10, 120})"
   ]
  },
  {
   "cell_type": "code",
   "execution_count": null,
   "id": "9f5963fe",
   "metadata": {},
   "outputs": [],
   "source": []
  },
  {
   "cell_type": "markdown",
   "id": "ca6933c9",
   "metadata": {},
   "source": [
    "### `string`\n",
    "\n",
    "**`'Иванов Иван'` vs `'Ивонофф Иван'`**\n",
    "\n",
    "строка - упорядоченный набор символов.\n",
    "\n",
    "<br>\n",
    "\n",
    "Если порядок не важен, можно относиться и как к множествам\n",
    "\n",
    "Если все строки одинаковой длины (к этому можно привести), можно использовать `Hamming distance`\n",
    "\n",
    "<br>\n",
    "\n",
    "Есть два классических способа посчитать близость между строками, да и вообще объектами \"сложной природы\":\n",
    "- использовать функции близости на этих объектах\n",
    "    - Levenshtein\n",
    "    - Damerau-Levenshtein\n",
    "    - Jaro-Winkler\n",
    "    - Hamming (трактуем как векторы одинаковой длины)\n",
    "    - Jaccard / Sorensen-Dice (трактуем как множества)\n",
    "\n",
    "\n",
    "- получить эмбеддинги этих объектов (вектора-представления) и считать близости между эмбеддингами стандартными способами\n",
    "    **(out of scope)**\n",
    "    - bag of words\n",
    "    - tf-idf\n",
    "    - некоторые методы понижения размерности (зачастую для этого нужно предоставить функцию близости)\n",
    "    - нейронные сети\n",
    "    "
   ]
  },
  {
   "cell_type": "markdown",
   "id": "c7f622f0",
   "metadata": {},
   "source": [
    "**Две библиотеки:**\n",
    "\n",
    "[**`rapidfuzz`**](https://github.com/maxbachmann/RapidFuzz) - классические расстояния и меры сходства быстро, мощно и удобно\n",
    "- `rapidfuzz.distance` - классика\n",
    "\n",
    "\n",
    "- `rapidfuzz.fuzz` - еще всякие меры сходства, возвращают float in [0, 100]\n",
    "\n",
    "\n",
    "- `rapidfuzz.process` - модуль для организации \"процессов\", связанных со строками\n",
    "    - `rapidfuzz.process.cdist` - быстрый аналог scipy\n",
    "    \n",
    "    \n",
    "- `rapidfuzz.utils` - стандартный препроцессор строк\n",
    "    \n",
    "<br>\n",
    "    \n",
    "[**`jellyfish`**](https://github.com/jamesturk/jellyfish) - фонетические кодировки"
   ]
  },
  {
   "cell_type": "code",
   "execution_count": 100,
   "id": "351cbdf6",
   "metadata": {},
   "outputs": [],
   "source": [
    "# !pip install jellyfish rapidfuzz"
   ]
  },
  {
   "cell_type": "markdown",
   "id": "dafbda1a",
   "metadata": {},
   "source": [
    "Создадим данные для экспериментов со строками"
   ]
  },
  {
   "cell_type": "code",
   "execution_count": 109,
   "id": "d0cc2788",
   "metadata": {},
   "outputs": [
    {
     "data": {
      "text/plain": [
       "array([['122722608'],\n",
       "       ['115531925'],\n",
       "       ['258701811']], dtype='<U11')"
      ]
     },
     "execution_count": 109,
     "metadata": {},
     "output_type": "execute_result"
    }
   ],
   "source": [
    "X = np.random.randint(low=1e8, high=1e9 - 1, size=(1000, 1)).astype(str) # строки длины 9\n",
    "X[:3]"
   ]
  },
  {
   "cell_type": "code",
   "execution_count": null,
   "id": "d576fd52",
   "metadata": {},
   "outputs": [],
   "source": []
  },
  {
   "cell_type": "markdown",
   "id": "b07359af",
   "metadata": {},
   "source": [
    "Сравнение скоростей работы и cdist:"
   ]
  },
  {
   "cell_type": "code",
   "execution_count": 121,
   "id": "fc9b577b",
   "metadata": {},
   "outputs": [
    {
     "name": "stdout",
     "output_type": "stream",
     "text": [
      "3.35 s ± 117 ms per loop (mean ± std. dev. of 7 runs, 1 loop each)\n",
      "2.12 s ± 94.6 ms per loop (mean ± std. dev. of 7 runs, 1 loop each)\n",
      "20.8 ms ± 1.1 ms per loop (mean ± std. dev. of 7 runs, 100 loops each)\n"
     ]
    }
   ],
   "source": [
    "import jellyfish\n",
    "\n",
    "%timeit -o cdist(X, X, metric=lambda x, y: jellyfish.levenshtein_distance(x[0], y[0]))\n",
    "\n",
    "import rapidfuzz\n",
    "\n",
    "%timeit -o cdist(X, X, metric=lambda x, y: rapidfuzz.distance.Levenshtein.distance(x[0], y[0]))\n",
    "\n",
    "%timeit -o rapidfuzz.process.cdist(X.reshape(-1), X.reshape(-1), scorer=rapidfuzz.distance.Levenshtein.distance)\n",
    "\n",
    "_ = ''"
   ]
  },
  {
   "cell_type": "code",
   "execution_count": null,
   "id": "2d73e157",
   "metadata": {},
   "outputs": [],
   "source": []
  },
  {
   "cell_type": "markdown",
   "id": "1e621d0e",
   "metadata": {},
   "source": [
    "Фонетические кодировки jellyfish и их применение"
   ]
  },
  {
   "cell_type": "code",
   "execution_count": 143,
   "id": "24297d4b",
   "metadata": {},
   "outputs": [
    {
     "name": "stdout",
     "output_type": "stream",
     "text": [
      "\"Ann\" encoding: AN\n",
      "\"Anne\" encoding: AN\n"
     ]
    },
    {
     "data": {
      "text/plain": [
       "array([[0, 8, 8, ..., 9, 9, 7],\n",
       "       [8, 0, 8, ..., 8, 7, 9],\n",
       "       [8, 8, 0, ..., 7, 9, 9],\n",
       "       ...,\n",
       "       [9, 8, 7, ..., 0, 7, 8],\n",
       "       [9, 7, 9, ..., 7, 0, 8],\n",
       "       [7, 9, 9, ..., 8, 8, 0]], dtype=int32)"
      ]
     },
     "execution_count": 143,
     "metadata": {},
     "output_type": "execute_result"
    }
   ],
   "source": [
    "print('\"Ann\" encoding:', jellyfish.match_rating_codex('Ann'))\n",
    "print('\"Anne\" encoding:', jellyfish.match_rating_codex('Anne'))\n",
    "\n",
    "# их можно подавать в качестве processor в rapidfuzz\n",
    "rapidfuzz.process.cdist(\n",
    "    X.reshape(-1), X.reshape(-1), scorer=rapidfuzz.distance.Levenshtein.distance,\n",
    "    processor=jellyfish.match_rating_codex\n",
    ")\n",
    "\n",
    "# также, в rapidfuzz есть встроенный processor\n",
    "rapidfuzz.process.cdist(\n",
    "    X.reshape(-1), X.reshape(-1), scorer=rapidfuzz.distance.Levenshtein.distance,\n",
    "    processor=rapidfuzz.utils.default_process\n",
    ")\n",
    "\n",
    "# также, можно подключать сюда питоновский модуль с регулярными выражениями - re"
   ]
  },
  {
   "cell_type": "code",
   "execution_count": null,
   "id": "766562f8",
   "metadata": {},
   "outputs": [],
   "source": []
  },
  {
   "cell_type": "markdown",
   "id": "44e3145f",
   "metadata": {},
   "source": [
    "## Кастомные функции близости\n",
    "\n",
    "подводка на примере bool:\n",
    "\n",
    "**`True` vs `True`** и **`False` vs `False`** не обязательно находятся на одинаковом расстоянии \n",
    "\n",
    "<br>\n",
    "\n",
    "### `categorical`\n",
    "\n",
    "**`'medium'` vs `'high'`**\n",
    "\n",
    "придется мастерить самим - зависит от смысла"
   ]
  },
  {
   "cell_type": "code",
   "execution_count": 3,
   "id": "2c9393cd",
   "metadata": {},
   "outputs": [
    {
     "data": {
      "text/plain": [
       "high      500\n",
       "medium    401\n",
       "low        99\n",
       "Name: count, dtype: int64"
      ]
     },
     "execution_count": 3,
     "metadata": {},
     "output_type": "execute_result"
    }
   ],
   "source": [
    "import pandas as pd\n",
    "\n",
    "dummy = pd.Series(np.random.choice(['low', 'medium', 'high'], size=1000, p=[0.1, 0.4, 0.5]))\n",
    "dummy.value_counts()"
   ]
  },
  {
   "cell_type": "code",
   "execution_count": null,
   "id": "8a064918",
   "metadata": {},
   "outputs": [],
   "source": [
    "# пример\n",
    "\n",
    "distances = {\n",
    "        'low': {\n",
    "            'low': 0,\n",
    "            'medium': 2,\n",
    "            'high': np.inf\n",
    "        }\n",
    "        'medium': {\n",
    "            'low': 2,\n",
    "            'medium': 0,\n",
    "            'high': 5\n",
    "        }\n",
    "        'high': {\n",
    "            'low': np.inf,\n",
    "            'medium': 5,\n",
    "            'high': 1 # не обязательно 0 :)\n",
    "        }\n",
    "    }\n",
    "\n",
    "def category_col_distance(cat_1, cat_2, distance_dict):\n",
    "    return distance_dict[cat_1][cat_2]\n",
    "\n",
    "\n",
    "# еще пример\n",
    "dummy = dummy.map({'low': 0, 'medium': 2, 'high': 5}) # а дальше воспринимать эту колонку как интовую"
   ]
  },
  {
   "cell_type": "code",
   "execution_count": null,
   "id": "5ef5d5ce",
   "metadata": {},
   "outputs": [],
   "source": []
  },
  {
   "cell_type": "markdown",
   "id": "78436565",
   "metadata": {},
   "source": [
    "### `обработка специальных значений`\n",
    "\n",
    "не забывайте о том, чтобы обрабатывать наны, нули, пустые строки и любые другие спец. значения"
   ]
  },
  {
   "cell_type": "code",
   "execution_count": 148,
   "id": "e1b858d0",
   "metadata": {},
   "outputs": [
    {
     "data": {
      "text/plain": [
       "1.7320508075688772"
      ]
     },
     "execution_count": 148,
     "metadata": {},
     "output_type": "execute_result"
    }
   ],
   "source": [
    "# пример обработки нанов\n",
    "\n",
    "def nan_euclidean(vec1, vec2):\n",
    "    vec1_na_cond = pd.isna(vec1)\n",
    "    vec2_na_cond = pd.isna(vec2)\n",
    "    \n",
    "    squared_diff = (vec1 - vec2) ** 2\n",
    "    squared_diff[vec1_na_cond] = vec2[vec1_na_cond] # left nan\n",
    "    squared_diff[vec2_na_cond] = vec1[vec2_na_cond] # right nan\n",
    "    squared_diff[vec1_na_cond & vec2_na_cond] = 0 # both nan\n",
    "    \n",
    "    return np.sqrt(squared_diff.sum())\n",
    "\n",
    "vec1 = np.array([1, 2, 3, np.nan])\n",
    "vec2 = np.array([1, 2, np.nan, np.nan])\n",
    "\n",
    "nan_euclidean(vec1, vec2) # корень из трех"
   ]
  },
  {
   "cell_type": "code",
   "execution_count": null,
   "id": "9327aafd",
   "metadata": {},
   "outputs": [],
   "source": []
  },
  {
   "cell_type": "markdown",
   "id": "dc9c84e2",
   "metadata": {},
   "source": [
    "## Композиция функций близости\n",
    "\n",
    "**Оставляю этот блок в том виде, в котором он оказался на семинаре. Возможно, у меня дойдут руки его допилить...**"
   ]
  },
  {
   "cell_type": "markdown",
   "id": "bd8c228d",
   "metadata": {},
   "source": [
    "постараемся подобрать \"универсальную меру близости\" для пассажиров титаника, и с помощью нее решить задачу методом kNN в прямом эфире"
   ]
  },
  {
   "cell_type": "code",
   "execution_count": 12,
   "id": "8aec1c4a",
   "metadata": {},
   "outputs": [
    {
     "data": {
      "text/html": [
       "<div>\n",
       "<style scoped>\n",
       "    .dataframe tbody tr th:only-of-type {\n",
       "        vertical-align: middle;\n",
       "    }\n",
       "\n",
       "    .dataframe tbody tr th {\n",
       "        vertical-align: top;\n",
       "    }\n",
       "\n",
       "    .dataframe thead th {\n",
       "        text-align: right;\n",
       "    }\n",
       "</style>\n",
       "<table border=\"1\" class=\"dataframe\">\n",
       "  <thead>\n",
       "    <tr style=\"text-align: right;\">\n",
       "      <th></th>\n",
       "      <th>PassengerId</th>\n",
       "      <th>Survived</th>\n",
       "      <th>Pclass</th>\n",
       "      <th>Name</th>\n",
       "      <th>Sex</th>\n",
       "      <th>Age</th>\n",
       "      <th>SibSp</th>\n",
       "      <th>Parch</th>\n",
       "      <th>Ticket</th>\n",
       "      <th>Fare</th>\n",
       "      <th>Cabin</th>\n",
       "      <th>Embarked</th>\n",
       "    </tr>\n",
       "  </thead>\n",
       "  <tbody>\n",
       "    <tr>\n",
       "      <th>0</th>\n",
       "      <td>1</td>\n",
       "      <td>0</td>\n",
       "      <td>3</td>\n",
       "      <td>Braund, Mr. Owen Harris</td>\n",
       "      <td>male</td>\n",
       "      <td>22.0</td>\n",
       "      <td>1</td>\n",
       "      <td>0</td>\n",
       "      <td>A/5 21171</td>\n",
       "      <td>7.2500</td>\n",
       "      <td>NaN</td>\n",
       "      <td>S</td>\n",
       "    </tr>\n",
       "    <tr>\n",
       "      <th>1</th>\n",
       "      <td>2</td>\n",
       "      <td>1</td>\n",
       "      <td>1</td>\n",
       "      <td>Cumings, Mrs. John Bradley (Florence Briggs Th...</td>\n",
       "      <td>female</td>\n",
       "      <td>38.0</td>\n",
       "      <td>1</td>\n",
       "      <td>0</td>\n",
       "      <td>PC 17599</td>\n",
       "      <td>71.2833</td>\n",
       "      <td>C85</td>\n",
       "      <td>C</td>\n",
       "    </tr>\n",
       "    <tr>\n",
       "      <th>2</th>\n",
       "      <td>3</td>\n",
       "      <td>1</td>\n",
       "      <td>3</td>\n",
       "      <td>Heikkinen, Miss. Laina</td>\n",
       "      <td>female</td>\n",
       "      <td>26.0</td>\n",
       "      <td>0</td>\n",
       "      <td>0</td>\n",
       "      <td>STON/O2. 3101282</td>\n",
       "      <td>7.9250</td>\n",
       "      <td>NaN</td>\n",
       "      <td>S</td>\n",
       "    </tr>\n",
       "  </tbody>\n",
       "</table>\n",
       "</div>"
      ],
      "text/plain": [
       "   PassengerId  Survived  Pclass  \\\n",
       "0            1         0       3   \n",
       "1            2         1       1   \n",
       "2            3         1       3   \n",
       "\n",
       "                                                Name     Sex   Age  SibSp  \\\n",
       "0                            Braund, Mr. Owen Harris    male  22.0      1   \n",
       "1  Cumings, Mrs. John Bradley (Florence Briggs Th...  female  38.0      1   \n",
       "2                             Heikkinen, Miss. Laina  female  26.0      0   \n",
       "\n",
       "   Parch            Ticket     Fare Cabin Embarked  \n",
       "0      0         A/5 21171   7.2500   NaN        S  \n",
       "1      0          PC 17599  71.2833   C85        C  \n",
       "2      0  STON/O2. 3101282   7.9250   NaN        S  "
      ]
     },
     "execution_count": 12,
     "metadata": {},
     "output_type": "execute_result"
    }
   ],
   "source": [
    "import pandas as pd\n",
    "\n",
    "tr = pd.read_csv('titanic/train.csv')\n",
    "tst = pd.read_csv('titanic/test.csv')\n",
    "tr.head(3)"
   ]
  },
  {
   "cell_type": "markdown",
   "id": "5bb8c270",
   "metadata": {},
   "source": [
    "какие [колонки](https://www.kaggle.com/competitions/titanic/data) возьмем в нашу метрику?\n",
    "\n",
    "`PassengerId`, `Embarked`, `Ticket`\n",
    "\n",
    "берем: `Pclass`, `Sex`, `Age`, `SibSp`, `Parch`, `Fare`, `*Name`\n",
    "\n",
    "\n",
    "как их отобрать в общем случае?"
   ]
  },
  {
   "cell_type": "code",
   "execution_count": 20,
   "id": "6213a43e",
   "metadata": {},
   "outputs": [
    {
     "data": {
      "text/plain": [
       "Fare\n",
       "8.0500     0.048260\n",
       "13.0000    0.047138\n",
       "7.8958     0.042649\n",
       "7.7500     0.038159\n",
       "26.0000    0.034792\n",
       "             ...   \n",
       "35.0000    0.001122\n",
       "28.5000    0.001122\n",
       "6.2375     0.001122\n",
       "14.0000    0.001122\n",
       "10.5167    0.001122\n",
       "Name: proportion, Length: 248, dtype: float64"
      ]
     },
     "execution_count": 20,
     "metadata": {},
     "output_type": "execute_result"
    }
   ],
   "source": [
    "tr.Fare.value_counts(normalize=True, dropna=False)\n",
    "# plt.hist(tr.Age, bins=33)\n",
    "# _ = ''"
   ]
  },
  {
   "cell_type": "code",
   "execution_count": null,
   "id": "0bed4092",
   "metadata": {},
   "outputs": [],
   "source": [
    "distance_dict = {\n",
    "    1: {\n",
    "        1: 0,\n",
    "        2: 2,\n",
    "        3: 10\n",
    "    },\n",
    "    2: {\n",
    "        1: 2,\n",
    "        2: 0,\n",
    "        3: 4\n",
    "    },\n",
    "    3: {\n",
    "        1: 10,\n",
    "        2: 4,\n",
    "        3: 0\n",
    "    }\n",
    "}\n",
    "\n",
    "def pclass_dist(pclass1, pclass2, distance_dict):\n",
    "    return distance_dict[pclass1][pclass2]\n",
    "\n",
    "def sex_dist(sex1, sex2):\n",
    "    return int(sex1 != sex2)\n",
    "\n",
    "def manh_dist(x1, x2):\n",
    "    return np.abs(x1 - x2)\n",
    "\n",
    "def euc_dist(x1, x2):\n",
    "    return (x1 - x2) ** 2"
   ]
  },
  {
   "cell_type": "markdown",
   "id": "9a6e22e9",
   "metadata": {},
   "source": [
    "x_test -> k neighbors from X_train -> mode(kneighbors.Survived)\n",
    "\n",
    "для каждого x_test, x_train, нужно посчитать\n",
    "phi(pclass_dist, sex_dist, manh_dist_age, ..., euc_dist_fare)"
   ]
  },
  {
   "cell_type": "code",
   "execution_count": null,
   "id": "1a778e51",
   "metadata": {},
   "outputs": [],
   "source": [
    "def main_similarity(vec1, vec2, pclass_weight, sex_weight, age_weight): # vec - [pclass, sex, fare, ...]\n",
    "    pclass_dist_score = pclass_dist(vec1['Pclass'], vec2['Pclass'])\n",
    "    sex_dist_score = sex_dist(vec1['Sex'], vec2['Sex'])\n",
    "    age_dist_score = manh_dist(vec1['Age'], vec2['Age'])\n",
    "    \n",
    "    # поправить распределения\n",
    "    \n",
    "    return pclass_weight * pclass_dist_score + sex_dist_score * sex_weight + ..."
   ]
  },
  {
   "cell_type": "code",
   "execution_count": null,
   "id": "9ba2e9bb",
   "metadata": {},
   "outputs": [],
   "source": [
    "import optuna\n",
    "from functools import partial\n",
    "\n",
    "def objective(trial, ...):\n",
    "    pclass_weight = trial.suggest_float(...)\n",
    "    ...\n",
    "    k = trial.suggest_float(...)\n",
    "    \n",
    "    my_metric = partial(main_similarity, fix: pclass_weight, sex_weight, age_weight)\n",
    "    model = KNN(kneighbors=k, metric=my_metric)\n",
    "    model.fit(X_tr)\n",
    "    y_pred = model.predict(X_test)\n",
    "    \n",
    "    score = accuracy_score(y_tst, y_pred)\n",
    "    return score"
   ]
  },
  {
   "cell_type": "code",
   "execution_count": null,
   "id": "e3a5aedd",
   "metadata": {},
   "outputs": [],
   "source": [
    "study = ...\n",
    "study.optimize(n_trials=300)"
   ]
  },
  {
   "cell_type": "code",
   "execution_count": null,
   "id": "bbec7f3a",
   "metadata": {},
   "outputs": [],
   "source": []
  },
  {
   "cell_type": "markdown",
   "id": "1e5ed1f6",
   "metadata": {},
   "source": [
    "## *Дополнительный раздел"
   ]
  },
  {
   "cell_type": "markdown",
   "id": "7f4bb435",
   "metadata": {},
   "source": [
    "есть еще куча объектов, о близостях между которыми мы не говорили на семинаре - есть куда копать и что изучать!\n",
    "- матрицы и тензоры (напр. картинки)\n",
    "- графы\n",
    "- аудио\n",
    "- последовательности, перестановки\n",
    "- временные ряды\n",
    "- распределения вероятностей\n",
    "- ..."
   ]
  },
  {
   "cell_type": "code",
   "execution_count": null,
   "id": "0a9130f3",
   "metadata": {},
   "outputs": [],
   "source": []
  },
  {
   "cell_type": "markdown",
   "id": "c7f55a9f",
   "metadata": {},
   "source": [
    "### [`metric-learn`](https://github.com/scikit-learn-contrib/metric-learn) - библиотека обучения метрик"
   ]
  },
  {
   "cell_type": "code",
   "execution_count": null,
   "id": "20ac0acc",
   "metadata": {},
   "outputs": [],
   "source": []
  }
 ],
 "metadata": {
  "kernelspec": {
   "display_name": "Python 3 (ipykernel)",
   "language": "python",
   "name": "python3"
  },
  "language_info": {
   "codemirror_mode": {
    "name": "ipython",
    "version": 3
   },
   "file_extension": ".py",
   "mimetype": "text/x-python",
   "name": "python",
   "nbconvert_exporter": "python",
   "pygments_lexer": "ipython3",
   "version": "3.9.11"
  }
 },
 "nbformat": 4,
 "nbformat_minor": 5
}
