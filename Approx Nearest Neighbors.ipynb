{
 "cells": [
  {
   "cell_type": "code",
   "execution_count": 1,
   "id": "a9b6be2d",
   "metadata": {},
   "outputs": [],
   "source": [
    "# !pip install --upgrade faiss-cpu hnswlib"
   ]
  },
  {
   "cell_type": "markdown",
   "id": "52b9f19a",
   "metadata": {},
   "source": [
    "# LSH\n",
    "\n",
    "[**FALCONN**](https://github.com/FALCONN-LIB/FALCONN) - LSH Families for cosine similarity*\n",
    "  \n",
    "  2015 - Practical and Optimal LSH for Angular Distance https://arxiv.org/abs/1509.02897\n",
    "  \n",
    "  Туториал по `LSH` и его реализации в библиотеке (оно же, коротко и ясно):\n",
    "  \n",
    "  https://github.com/FALCONN-LIB/FALCONN/wiki/LSH-Primer <br>\n",
    "  https://github.com/FALCONN-LIB/FALCONN/wiki/LSH-Families\n",
    "  \n",
    "  \n",
    "[**datasketch**](https://github.com/ekzhu/datasketch) - LSH Family for Jaccard similarity"
   ]
  },
  {
   "cell_type": "code",
   "execution_count": null,
   "id": "3efe1cc8",
   "metadata": {},
   "outputs": [],
   "source": []
  },
  {
   "cell_type": "markdown",
   "id": "21c54c41",
   "metadata": {},
   "source": [
    "#### Сделаем данные"
   ]
  },
  {
   "cell_type": "code",
   "execution_count": 2,
   "id": "49cdae1e",
   "metadata": {},
   "outputs": [],
   "source": [
    "import numpy as np\n",
    "\n",
    "dim = 128\n",
    "num_elements = 100_000\n",
    "\n",
    "# Generating sample data\n",
    "np.random.seed(911)\n",
    "data = np.random.random((num_elements, dim)).astype(np.float32)\n",
    "ids = np.arange(num_elements)"
   ]
  },
  {
   "cell_type": "markdown",
   "id": "e725eec7",
   "metadata": {},
   "source": [
    "# HNSW - Hierarchical Navigable Small World\n",
    "  \n",
    "  [**nmslib**](https://github.com/nmslib/nmslib/)\n",
    "  \n",
    "  \n",
    "  [**hnswlib**](https://github.com/nmslib/hnswlib)\n",
    "  \n",
    "**Navigable Small World** <br>\n",
    "  2013 - Approximate nearest neighbor algorithm based on navigable\n",
    "small world graphs https://publications.hse.ru/pubs/share/folder/x5p6h7thif/128296059.pdf\n",
    "\n",
    "\n",
    "**Hierarchical Navigable Small World** <br>\n",
    "  2016 - Efficient and robust approximate nearest neighbor search using Hierarchical Navigable Small World graphs https://arxiv.org/abs/1603.09320"
   ]
  },
  {
   "cell_type": "code",
   "execution_count": 3,
   "id": "4fd1a58f",
   "metadata": {},
   "outputs": [
    {
     "name": "stdout",
     "output_type": "stream",
     "text": [
      "Element insertion: 4.769\n",
      "Query dataset: 0.019\n",
      "\n",
      "labels:\n",
      " [[    0  1282 57404]\n",
      " [    1 51155 44628]\n",
      " [26825 49496 40012]\n",
      " [    3 59762 46046]\n",
      " [    4 90650 90863]]\n",
      "\n",
      "distances:\n",
      " [[ 0.        12.8320055 13.142619 ]\n",
      " [ 0.        11.866396  12.505065 ]\n",
      " [14.063374  14.3945465 15.148863 ]\n",
      " [ 0.        13.108384  13.354358 ]\n",
      " [ 0.        13.288245  13.621016 ]]\n"
     ]
    }
   ],
   "source": [
    "import hnswlib\n",
    "from time import time as tm\n",
    "\n",
    "\n",
    "# Declaring index\n",
    "p = hnswlib.Index(space='l2', dim=dim) # possible options are l2, cosine or ip\n",
    "\n",
    "# Initializing index - the maximum number of elements should be known beforehand\n",
    "p.init_index(max_elements=num_elements, ef_construction=200, M=16)\n",
    "\n",
    "\n",
    "stm = tm()\n",
    "\n",
    "# Element insertion (can be called several times):\n",
    "p.add_items(data, ids)\n",
    "\n",
    "print('Element insertion:', round(tm() - stm, 3))\n",
    "\n",
    "\n",
    "\n",
    "\n",
    "# Controlling the recall by setting ef:\n",
    "p.set_ef(50) # ef should always be > k\n",
    "\n",
    "query_size = 1000\n",
    "query = data[:query_size]\n",
    "\n",
    "stm = tm()\n",
    "# Query dataset, k - number of closest elements (returns 2 numpy arrays)\n",
    "labels, distances = p.knn_query(query, k=3)\n",
    "\n",
    "print('Query dataset:', round(tm() - stm, 3))\n",
    "\n",
    "print('\\nlabels:\\n', labels[:5])\n",
    "print('\\ndistances:\\n', distances[:5])"
   ]
  },
  {
   "cell_type": "markdown",
   "id": "604051fb",
   "metadata": {},
   "source": [
    "Описание параметров с рекомендациями - https://github.com/nmslib/hnswlib/blob/master/ALGO_PARAMS.md\n",
    "\n",
    "  Рекомендации также можно найти в основной статье"
   ]
  },
  {
   "cell_type": "code",
   "execution_count": null,
   "id": "e714d0f3",
   "metadata": {},
   "outputs": [],
   "source": []
  },
  {
   "cell_type": "markdown",
   "id": "c5ef4f8b",
   "metadata": {},
   "source": [
    "# Faiss - Facebook AI Research Similarity Search\n",
    "  \n",
    "  [**faiss**](https://github.com/facebookresearch/faiss) <br>\n",
    "  \n",
    "  2011- Product Quantization for Nearest Neighbor Search https://hal.inria.fr/inria-00514462v2/document"
   ]
  },
  {
   "cell_type": "code",
   "execution_count": 4,
   "id": "f3bc6dac",
   "metadata": {},
   "outputs": [
    {
     "name": "stdout",
     "output_type": "stream",
     "text": [
      "index.is_trained: False\n",
      "Training: 7.122\n",
      "Adding data to index: 0.247\n",
      "Searching: 0.003\n",
      "\n",
      "labels:\n",
      " [[    0 61766 21369]\n",
      " [    1 68825 13730]\n",
      " [    2 35009 50373]\n",
      " [    3 20159 63718]\n",
      " [    4  2549 42519]]\n",
      "\n",
      "distances:\n",
      " [[ 2.6053514 11.897097  13.493942 ]\n",
      " [ 2.4028902 11.932099  12.539666 ]\n",
      " [ 2.6983104 13.666088  13.668032 ]\n",
      " [ 2.0409832 12.788938  13.140978 ]\n",
      " [ 2.9106393 12.583055  14.28035  ]]\n"
     ]
    }
   ],
   "source": [
    "import faiss\n",
    "\n",
    "# build the index\n",
    "coarse_quantizer = faiss.IndexFlatL2(dim)\n",
    "\n",
    "index = faiss.IndexIVFPQ(coarse_quantizer, # с помощью какого индекса считать соседство с центроидами (coarse и PQ)\n",
    "                         dim, # d - размерность исходных векторов\n",
    "                         1000, # nlists - k' для coarse quantizer\n",
    "                         16, # m - на сколько векторов бить исходные в product quantizer\n",
    "                         8 # nbits - количество бит на индексы центроидов для PQ, nbits = log_2 k*, то есть k* = 2^nbits\n",
    "                        )\n",
    "\n",
    "print('index.is_trained:', index.is_trained)\n",
    "\n",
    "train_data = data.copy() # на практике это могут быть другие данные\n",
    "\n",
    "\n",
    "stm = tm()\n",
    "index.train(data)\n",
    "print('Training:', round(tm() - stm, 3))\n",
    "\n",
    "\n",
    "stm = tm()\n",
    "index.add(data) # add vectors to the index\n",
    "print('Adding data to index:', round(tm() - stm, 3))\n",
    "\n",
    "k = 3\n",
    "\n",
    "stm = tm()\n",
    "distances, labels = index.search(query, k)\n",
    "print('Searching:', round(tm() - stm, 3))\n",
    "\n",
    "print('\\nlabels:\\n', labels[:5])\n",
    "print('\\ndistances:\\n', distances[:5])"
   ]
  },
  {
   "cell_type": "markdown",
   "id": "2e797aef",
   "metadata": {},
   "source": [
    "Рекомендации по параметрам ищите в статьях или на wiki"
   ]
  },
  {
   "cell_type": "code",
   "execution_count": null,
   "id": "5c7deadf",
   "metadata": {},
   "outputs": [],
   "source": []
  },
  {
   "cell_type": "markdown",
   "id": "c7db8ca7",
   "metadata": {},
   "source": [
    "Сравнения :)"
   ]
  },
  {
   "cell_type": "code",
   "execution_count": 6,
   "id": "7d7b784f",
   "metadata": {},
   "outputs": [],
   "source": [
    "_ = '''\n",
    "HNSW:\n",
    "Element insertion: 4.769\n",
    "Searching: 0.019\n",
    "\n",
    "Faiss:\n",
    "Training: 7.122\n",
    "Element insertion: 0.247\n",
    "Searching: 0.003\n",
    "'''"
   ]
  },
  {
   "cell_type": "code",
   "execution_count": null,
   "id": "4816a475",
   "metadata": {},
   "outputs": [],
   "source": []
  },
  {
   "cell_type": "markdown",
   "id": "8e6f8e18",
   "metadata": {},
   "source": [
    "# *Вместо заключения"
   ]
  },
  {
   "cell_type": "markdown",
   "id": "cf8242c5",
   "metadata": {},
   "source": [
    "- бенчмарки алгоритмов ANN - http://ann-benchmarks.com/index.html\n",
    "- [google ScaNN](https://github.com/google-research/google-research/tree/master/scann) - вроде рулит, но без документации\n",
    "- [PyNNDescent](https://github.com/lmcinnes/pynndescent) - user-defined distances"
   ]
  },
  {
   "cell_type": "code",
   "execution_count": null,
   "id": "18532994",
   "metadata": {},
   "outputs": [],
   "source": []
  }
 ],
 "metadata": {
  "kernelspec": {
   "display_name": "Python 3 (ipykernel)",
   "language": "python",
   "name": "python3"
  },
  "language_info": {
   "codemirror_mode": {
    "name": "ipython",
    "version": 3
   },
   "file_extension": ".py",
   "mimetype": "text/x-python",
   "name": "python",
   "nbconvert_exporter": "python",
   "pygments_lexer": "ipython3",
   "version": "3.10.1"
  }
 },
 "nbformat": 4,
 "nbformat_minor": 5
}
