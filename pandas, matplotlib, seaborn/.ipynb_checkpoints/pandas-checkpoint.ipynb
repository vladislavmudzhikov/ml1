{
 "cells": [
  {
   "cell_type": "code",
   "execution_count": 3,
   "id": "8ae3d626",
   "metadata": {
    "collapsed": true
   },
   "outputs": [
    {
     "name": "stderr",
     "output_type": "stream",
     "text": [
      "WARNING: Ignoring invalid distribution -andas (c:\\program files\\python39\\lib\\site-packages)\n",
      "WARNING: Ignoring invalid distribution -andas (c:\\program files\\python39\\lib\\site-packages)\n",
      "WARNING: Ignoring invalid distribution -andas (c:\\program files\\python39\\lib\\site-packages)\n",
      "    WARNING: Ignoring invalid distribution -andas (c:\\program files\\python39\\lib\\site-packages)\n",
      "ERROR: Could not install packages due to an OSError: [WinError 5] Отказано в доступе: 'C:\\\\Program Files\\\\Python39\\\\Lib\\\\site-packages\\\\~cipy\\\\.libs\\\\libansari.54HGNEJBQIYZX5TZPCQGLNVIPFU6NWEX.gfortran-win_amd64.dll'\n",
      "Consider using the `--user` option or check the permissions.\n",
      "\n",
      "WARNING: Ignoring invalid distribution -andas (c:\\program files\\python39\\lib\\site-packages)\n",
      "WARNING: Ignoring invalid distribution -andas (c:\\program files\\python39\\lib\\site-packages)\n",
      "WARNING: Ignoring invalid distribution -andas (c:\\program files\\python39\\lib\\site-packages)\n",
      "WARNING: You are using pip version 22.0.4; however, version 23.2.1 is available.\n",
      "You should consider upgrading via the 'C:\\Program Files\\Python39\\python.exe -m pip install --upgrade pip' command.\n"
     ]
    }
   ],
   "source": [
    "!pip install -q --upgrade numpy scipy pyarrow pandas matplotlib seaborn"
   ]
  },
  {
   "cell_type": "code",
   "execution_count": 4,
   "id": "66d99d0c",
   "metadata": {},
   "outputs": [
    {
     "name": "stdout",
     "output_type": "stream",
     "text": [
      "numpy 1.26.0\n",
      "pandas 2.1.1\n",
      "pyarrow 13.0.0\n",
      "matplotlib 3.8.0\n",
      "seaborn 0.12.2\n",
      "sklearn 1.1.1\n"
     ]
    }
   ],
   "source": [
    "import numpy as np, pandas as pd, pyarrow\n",
    "import matplotlib, seaborn as sns\n",
    "import sklearn\n",
    "\n",
    "for lib in (np, pd, pyarrow, matplotlib, sns, sklearn):\n",
    "    print(lib.__name__, lib.__version__)"
   ]
  },
  {
   "cell_type": "markdown",
   "id": "73bdbdbb",
   "metadata": {},
   "source": [
    "# pandas"
   ]
  },
  {
   "cell_type": "markdown",
   "id": "a4ce2f6c",
   "metadata": {},
   "source": [
    "## План:\n",
    "- Ободряющие слова про документацию\n",
    "- pd.DataFrame\n",
    "- pd.Series\n",
    "- Типы данных, которые они хранят\n",
    "- subqueries\n",
    "- Что можно делать с pd.Series\n",
    "- Что можно делать с pd.DataFrame\n",
    "- General functions\n",
    "- *Style"
   ]
  },
  {
   "cell_type": "markdown",
   "id": "d69b847b",
   "metadata": {},
   "source": [
    "## - pd.DataFrame"
   ]
  },
  {
   "cell_type": "code",
   "execution_count": 6,
   "id": "731274d1",
   "metadata": {},
   "outputs": [
    {
     "name": "stdout",
     "output_type": "stream",
     "text": [
      "<class 'pandas.core.frame.DataFrame'>\n",
      "RangeIndex: 891 entries, 0 to 890\n",
      "Data columns (total 12 columns):\n",
      " #   Column       Non-Null Count  Dtype  \n",
      "---  ------       --------------  -----  \n",
      " 0   PassengerId  891 non-null    int64  \n",
      " 1   Survived     891 non-null    int64  \n",
      " 2   Pclass       891 non-null    int64  \n",
      " 3   Name         891 non-null    object \n",
      " 4   Sex          891 non-null    object \n",
      " 5   Age          714 non-null    float64\n",
      " 6   SibSp        891 non-null    int64  \n",
      " 7   Parch        891 non-null    int64  \n",
      " 8   Ticket       891 non-null    object \n",
      " 9   Fare         891 non-null    float64\n",
      " 10  Cabin        204 non-null    object \n",
      " 11  Embarked     889 non-null    object \n",
      "dtypes: float64(2), int64(5), object(5)\n",
      "memory usage: 83.7+ KB\n"
     ]
    }
   ],
   "source": [
    "df = pd.read_csv('titanic/train.csv')\n",
    "df.info()"
   ]
  },
  {
   "attachments": {},
   "cell_type": "markdown",
   "id": "e271d048",
   "metadata": {},
   "source": [
    "<img src='https://media.geeksforgeeks.org/wp-content/cdn-uploads/creating_dataframe1.png' width=700>"
   ]
  },
  {
   "cell_type": "code",
   "execution_count": 34,
   "id": "e8abb9ad",
   "metadata": {},
   "outputs": [
    {
     "data": {
      "text/html": [
       "<div>\n",
       "<style scoped>\n",
       "    .dataframe tbody tr th:only-of-type {\n",
       "        vertical-align: middle;\n",
       "    }\n",
       "\n",
       "    .dataframe tbody tr th {\n",
       "        vertical-align: top;\n",
       "    }\n",
       "\n",
       "    .dataframe thead th {\n",
       "        text-align: right;\n",
       "    }\n",
       "</style>\n",
       "<table border=\"1\" class=\"dataframe\">\n",
       "  <thead>\n",
       "    <tr style=\"text-align: right;\">\n",
       "      <th></th>\n",
       "      <th>PassengerId</th>\n",
       "      <th>Survived</th>\n",
       "      <th>Pclass</th>\n",
       "      <th>Name</th>\n",
       "      <th>Sex</th>\n",
       "      <th>Age</th>\n",
       "      <th>SibSp</th>\n",
       "      <th>Parch</th>\n",
       "      <th>Ticket</th>\n",
       "      <th>Fare</th>\n",
       "      <th>Cabin</th>\n",
       "      <th>Embarked</th>\n",
       "    </tr>\n",
       "  </thead>\n",
       "  <tbody>\n",
       "    <tr>\n",
       "      <th>id_0</th>\n",
       "      <td>1</td>\n",
       "      <td>0</td>\n",
       "      <td>3</td>\n",
       "      <td>Braund, Mr. Owen Harris</td>\n",
       "      <td>male</td>\n",
       "      <td>22.0</td>\n",
       "      <td>1</td>\n",
       "      <td>0</td>\n",
       "      <td>A/5 21171</td>\n",
       "      <td>7.2500</td>\n",
       "      <td>NaN</td>\n",
       "      <td>S</td>\n",
       "    </tr>\n",
       "    <tr>\n",
       "      <th>id_1</th>\n",
       "      <td>2</td>\n",
       "      <td>1</td>\n",
       "      <td>1</td>\n",
       "      <td>Cumings, Mrs. John Bradley (Florence Briggs Th...</td>\n",
       "      <td>female</td>\n",
       "      <td>38.0</td>\n",
       "      <td>1</td>\n",
       "      <td>0</td>\n",
       "      <td>PC 17599</td>\n",
       "      <td>71.2833</td>\n",
       "      <td>C85</td>\n",
       "      <td>C</td>\n",
       "    </tr>\n",
       "    <tr>\n",
       "      <th>id_2</th>\n",
       "      <td>3</td>\n",
       "      <td>1</td>\n",
       "      <td>3</td>\n",
       "      <td>Heikkinen, Miss. Laina</td>\n",
       "      <td>female</td>\n",
       "      <td>26.0</td>\n",
       "      <td>0</td>\n",
       "      <td>0</td>\n",
       "      <td>STON/O2. 3101282</td>\n",
       "      <td>7.9250</td>\n",
       "      <td>NaN</td>\n",
       "      <td>S</td>\n",
       "    </tr>\n",
       "  </tbody>\n",
       "</table>\n",
       "</div>"
      ],
      "text/plain": [
       "      PassengerId  Survived  Pclass  \\\n",
       "id_0            1         0       3   \n",
       "id_1            2         1       1   \n",
       "id_2            3         1       3   \n",
       "\n",
       "                                                   Name     Sex   Age  SibSp  \\\n",
       "id_0                            Braund, Mr. Owen Harris    male  22.0      1   \n",
       "id_1  Cumings, Mrs. John Bradley (Florence Briggs Th...  female  38.0      1   \n",
       "id_2                             Heikkinen, Miss. Laina  female  26.0      0   \n",
       "\n",
       "      Parch            Ticket     Fare Cabin Embarked  \n",
       "id_0      0         A/5 21171   7.2500   NaN        S  \n",
       "id_1      0          PC 17599  71.2833   C85        C  \n",
       "id_2      0  STON/O2. 3101282   7.9250   NaN        S  "
      ]
     },
     "metadata": {},
     "output_type": "display_data"
    },
    {
     "name": "stdout",
     "output_type": "stream",
     "text": [
      "index object: Index(['id_0', 'id_1', 'id_2', 'id_3', 'id_4', 'id_5', 'id_6', 'id_7', 'id_8',\n",
      "       'id_9',\n",
      "       ...\n",
      "       'id_881', 'id_882', 'id_883', 'id_884', 'id_885', 'id_886', 'id_887',\n",
      "       'id_888', 'id_889', 'id_890'],\n",
      "      dtype='object', length=891) \n",
      "\n",
      "columns object: Index(['PassengerId', 'Survived', 'Pclass', 'Name', 'Sex', 'Age', 'SibSp',\n",
      "       'Parch', 'Ticket', 'Fare', 'Cabin', 'Embarked'],\n",
      "      dtype='object') \n",
      "\n",
      "dataframe shape: (891, 12)\n"
     ]
    }
   ],
   "source": [
    "from IPython.display import display\n",
    "\n",
    "# pd.options.display.max_rows = 100\n",
    "# pd.options.display.max_columns = 20\n",
    "\n",
    "display(df.head(3))\n",
    "\n",
    "print('index object:', df.index, '\\n\\ncolumns object:', df.columns, '\\n\\ndataframe shape:', df.shape)"
   ]
  },
  {
   "cell_type": "markdown",
   "id": "cd21382a",
   "metadata": {},
   "source": [
    "[`Index object`](https://pandas.pydata.org/docs/reference/indexing.html)"
   ]
  },
  {
   "cell_type": "code",
   "execution_count": 24,
   "id": "f18606b2",
   "metadata": {},
   "outputs": [
    {
     "data": {
      "text/html": [
       "<div>\n",
       "<style scoped>\n",
       "    .dataframe tbody tr th:only-of-type {\n",
       "        vertical-align: middle;\n",
       "    }\n",
       "\n",
       "    .dataframe tbody tr th {\n",
       "        vertical-align: top;\n",
       "    }\n",
       "\n",
       "    .dataframe thead th {\n",
       "        text-align: right;\n",
       "    }\n",
       "</style>\n",
       "<table border=\"1\" class=\"dataframe\">\n",
       "  <thead>\n",
       "    <tr style=\"text-align: right;\">\n",
       "      <th></th>\n",
       "      <th>PassengerId</th>\n",
       "      <th>Survived</th>\n",
       "      <th>Pclass</th>\n",
       "      <th>Name</th>\n",
       "      <th>Sex</th>\n",
       "      <th>Age</th>\n",
       "      <th>SibSp</th>\n",
       "      <th>Parch</th>\n",
       "      <th>Ticket</th>\n",
       "      <th>Fare</th>\n",
       "      <th>Cabin</th>\n",
       "      <th>Embarked</th>\n",
       "    </tr>\n",
       "  </thead>\n",
       "  <tbody>\n",
       "    <tr>\n",
       "      <th>id_0</th>\n",
       "      <td>1</td>\n",
       "      <td>0</td>\n",
       "      <td>3</td>\n",
       "      <td>Braund, Mr. Owen Harris</td>\n",
       "      <td>male</td>\n",
       "      <td>22.0</td>\n",
       "      <td>1</td>\n",
       "      <td>0</td>\n",
       "      <td>A/5 21171</td>\n",
       "      <td>7.2500</td>\n",
       "      <td>NaN</td>\n",
       "      <td>S</td>\n",
       "    </tr>\n",
       "    <tr>\n",
       "      <th>id_1</th>\n",
       "      <td>2</td>\n",
       "      <td>1</td>\n",
       "      <td>1</td>\n",
       "      <td>Cumings, Mrs. John Bradley (Florence Briggs Th...</td>\n",
       "      <td>female</td>\n",
       "      <td>38.0</td>\n",
       "      <td>1</td>\n",
       "      <td>0</td>\n",
       "      <td>PC 17599</td>\n",
       "      <td>71.2833</td>\n",
       "      <td>C85</td>\n",
       "      <td>C</td>\n",
       "    </tr>\n",
       "    <tr>\n",
       "      <th>id_2</th>\n",
       "      <td>3</td>\n",
       "      <td>1</td>\n",
       "      <td>3</td>\n",
       "      <td>Heikkinen, Miss. Laina</td>\n",
       "      <td>female</td>\n",
       "      <td>26.0</td>\n",
       "      <td>0</td>\n",
       "      <td>0</td>\n",
       "      <td>STON/O2. 3101282</td>\n",
       "      <td>7.9250</td>\n",
       "      <td>NaN</td>\n",
       "      <td>S</td>\n",
       "    </tr>\n",
       "  </tbody>\n",
       "</table>\n",
       "</div>"
      ],
      "text/plain": [
       "      PassengerId  Survived  Pclass  \\\n",
       "id_0            1         0       3   \n",
       "id_1            2         1       1   \n",
       "id_2            3         1       3   \n",
       "\n",
       "                                                   Name     Sex   Age  SibSp  \\\n",
       "id_0                            Braund, Mr. Owen Harris    male  22.0      1   \n",
       "id_1  Cumings, Mrs. John Bradley (Florence Briggs Th...  female  38.0      1   \n",
       "id_2                             Heikkinen, Miss. Laina  female  26.0      0   \n",
       "\n",
       "      Parch            Ticket     Fare Cabin Embarked  \n",
       "id_0      0         A/5 21171   7.2500   NaN        S  \n",
       "id_1      0          PC 17599  71.2833   C85        C  \n",
       "id_2      0  STON/O2. 3101282   7.9250   NaN        S  "
      ]
     },
     "execution_count": 24,
     "metadata": {},
     "output_type": "execute_result"
    }
   ],
   "source": [
    "# ИЗМЕНЕНИЕ ИНДЕКСА\n",
    "df.set_index('id_' + df.index.astype(str), inplace=False).head(3) # это датафрейм с новым индексом - копия"
   ]
  },
  {
   "cell_type": "code",
   "execution_count": 26,
   "id": "3c34cb71",
   "metadata": {},
   "outputs": [
    {
     "data": {
      "text/html": [
       "<div>\n",
       "<style scoped>\n",
       "    .dataframe tbody tr th:only-of-type {\n",
       "        vertical-align: middle;\n",
       "    }\n",
       "\n",
       "    .dataframe tbody tr th {\n",
       "        vertical-align: top;\n",
       "    }\n",
       "\n",
       "    .dataframe thead th {\n",
       "        text-align: right;\n",
       "    }\n",
       "</style>\n",
       "<table border=\"1\" class=\"dataframe\">\n",
       "  <thead>\n",
       "    <tr style=\"text-align: right;\">\n",
       "      <th></th>\n",
       "      <th>PassengerId</th>\n",
       "      <th>Survived</th>\n",
       "      <th>Pclass</th>\n",
       "      <th>passenger_name</th>\n",
       "      <th>Sex</th>\n",
       "      <th>Age</th>\n",
       "      <th>SibSp</th>\n",
       "      <th>Parch</th>\n",
       "      <th>Ticket</th>\n",
       "      <th>Fare</th>\n",
       "      <th>Cabin</th>\n",
       "      <th>Embarked</th>\n",
       "    </tr>\n",
       "  </thead>\n",
       "  <tbody>\n",
       "    <tr>\n",
       "      <th>0</th>\n",
       "      <td>1</td>\n",
       "      <td>0</td>\n",
       "      <td>3</td>\n",
       "      <td>Braund, Mr. Owen Harris</td>\n",
       "      <td>male</td>\n",
       "      <td>22.0</td>\n",
       "      <td>1</td>\n",
       "      <td>0</td>\n",
       "      <td>A/5 21171</td>\n",
       "      <td>7.2500</td>\n",
       "      <td>NaN</td>\n",
       "      <td>S</td>\n",
       "    </tr>\n",
       "    <tr>\n",
       "      <th>1</th>\n",
       "      <td>2</td>\n",
       "      <td>1</td>\n",
       "      <td>1</td>\n",
       "      <td>Cumings, Mrs. John Bradley (Florence Briggs Th...</td>\n",
       "      <td>female</td>\n",
       "      <td>38.0</td>\n",
       "      <td>1</td>\n",
       "      <td>0</td>\n",
       "      <td>PC 17599</td>\n",
       "      <td>71.2833</td>\n",
       "      <td>C85</td>\n",
       "      <td>C</td>\n",
       "    </tr>\n",
       "    <tr>\n",
       "      <th>2</th>\n",
       "      <td>3</td>\n",
       "      <td>1</td>\n",
       "      <td>3</td>\n",
       "      <td>Heikkinen, Miss. Laina</td>\n",
       "      <td>female</td>\n",
       "      <td>26.0</td>\n",
       "      <td>0</td>\n",
       "      <td>0</td>\n",
       "      <td>STON/O2. 3101282</td>\n",
       "      <td>7.9250</td>\n",
       "      <td>NaN</td>\n",
       "      <td>S</td>\n",
       "    </tr>\n",
       "  </tbody>\n",
       "</table>\n",
       "</div>"
      ],
      "text/plain": [
       "   PassengerId  Survived  Pclass  \\\n",
       "0            1         0       3   \n",
       "1            2         1       1   \n",
       "2            3         1       3   \n",
       "\n",
       "                                      passenger_name     Sex   Age  SibSp  \\\n",
       "0                            Braund, Mr. Owen Harris    male  22.0      1   \n",
       "1  Cumings, Mrs. John Bradley (Florence Briggs Th...  female  38.0      1   \n",
       "2                             Heikkinen, Miss. Laina  female  26.0      0   \n",
       "\n",
       "   Parch            Ticket     Fare Cabin Embarked  \n",
       "0      0         A/5 21171   7.2500   NaN        S  \n",
       "1      0          PC 17599  71.2833   C85        C  \n",
       "2      0  STON/O2. 3101282   7.9250   NaN        S  "
      ]
     },
     "execution_count": 26,
     "metadata": {},
     "output_type": "execute_result"
    }
   ],
   "source": [
    "# ИЗМЕНЕНИЕ КОЛОНОК\n",
    "df.rename(columns={'Name': 'passenger_name'}, inplace=False).head(3) # это датафрейм с новыми именами колонок - копия"
   ]
  },
  {
   "cell_type": "code",
   "execution_count": 37,
   "id": "87c39c1c",
   "metadata": {},
   "outputs": [
    {
     "data": {
      "text/html": [
       "<div>\n",
       "<style scoped>\n",
       "    .dataframe tbody tr th:only-of-type {\n",
       "        vertical-align: middle;\n",
       "    }\n",
       "\n",
       "    .dataframe tbody tr th {\n",
       "        vertical-align: top;\n",
       "    }\n",
       "\n",
       "    .dataframe thead th {\n",
       "        text-align: right;\n",
       "    }\n",
       "</style>\n",
       "<table border=\"1\" class=\"dataframe\">\n",
       "  <thead>\n",
       "    <tr style=\"text-align: right;\">\n",
       "      <th></th>\n",
       "      <th>PassengerId</th>\n",
       "      <th>Survived</th>\n",
       "      <th>Pclass</th>\n",
       "      <th>Name</th>\n",
       "      <th>Sex</th>\n",
       "      <th>Age</th>\n",
       "      <th>SibSp</th>\n",
       "      <th>Parch</th>\n",
       "      <th>Ticket</th>\n",
       "      <th>Fare</th>\n",
       "      <th>Cabin</th>\n",
       "      <th>Embarked</th>\n",
       "      <th>new_col_1</th>\n",
       "      <th>new_col_2</th>\n",
       "      <th>new_col_3</th>\n",
       "    </tr>\n",
       "  </thead>\n",
       "  <tbody>\n",
       "    <tr>\n",
       "      <th>id_0</th>\n",
       "      <td>1</td>\n",
       "      <td>0</td>\n",
       "      <td>3</td>\n",
       "      <td>Braund, Mr. Owen Harris</td>\n",
       "      <td>male</td>\n",
       "      <td>22.0</td>\n",
       "      <td>1</td>\n",
       "      <td>0</td>\n",
       "      <td>A/5 21171</td>\n",
       "      <td>7.2500</td>\n",
       "      <td>NaN</td>\n",
       "      <td>S</td>\n",
       "      <td>112</td>\n",
       "      <td>0</td>\n",
       "      <td>484.0</td>\n",
       "    </tr>\n",
       "    <tr>\n",
       "      <th>id_1</th>\n",
       "      <td>2</td>\n",
       "      <td>1</td>\n",
       "      <td>1</td>\n",
       "      <td>Cumings, Mrs. John Bradley (Florence Briggs Th...</td>\n",
       "      <td>female</td>\n",
       "      <td>38.0</td>\n",
       "      <td>1</td>\n",
       "      <td>0</td>\n",
       "      <td>PC 17599</td>\n",
       "      <td>71.2833</td>\n",
       "      <td>C85</td>\n",
       "      <td>C</td>\n",
       "      <td>112</td>\n",
       "      <td>0</td>\n",
       "      <td>1444.0</td>\n",
       "    </tr>\n",
       "    <tr>\n",
       "      <th>id_2</th>\n",
       "      <td>3</td>\n",
       "      <td>1</td>\n",
       "      <td>3</td>\n",
       "      <td>Heikkinen, Miss. Laina</td>\n",
       "      <td>female</td>\n",
       "      <td>26.0</td>\n",
       "      <td>0</td>\n",
       "      <td>0</td>\n",
       "      <td>STON/O2. 3101282</td>\n",
       "      <td>7.9250</td>\n",
       "      <td>NaN</td>\n",
       "      <td>S</td>\n",
       "      <td>112</td>\n",
       "      <td>0</td>\n",
       "      <td>676.0</td>\n",
       "    </tr>\n",
       "  </tbody>\n",
       "</table>\n",
       "</div>"
      ],
      "text/plain": [
       "      PassengerId  Survived  Pclass  \\\n",
       "id_0            1         0       3   \n",
       "id_1            2         1       1   \n",
       "id_2            3         1       3   \n",
       "\n",
       "                                                   Name     Sex   Age  SibSp  \\\n",
       "id_0                            Braund, Mr. Owen Harris    male  22.0      1   \n",
       "id_1  Cumings, Mrs. John Bradley (Florence Briggs Th...  female  38.0      1   \n",
       "id_2                             Heikkinen, Miss. Laina  female  26.0      0   \n",
       "\n",
       "      Parch            Ticket     Fare Cabin Embarked  new_col_1  new_col_2  \\\n",
       "id_0      0         A/5 21171   7.2500   NaN        S        112          0   \n",
       "id_1      0          PC 17599  71.2833   C85        C        112          0   \n",
       "id_2      0  STON/O2. 3101282   7.9250   NaN        S        112          0   \n",
       "\n",
       "      new_col_3  \n",
       "id_0      484.0  \n",
       "id_1     1444.0  \n",
       "id_2      676.0  "
      ]
     },
     "execution_count": 37,
     "metadata": {},
     "output_type": "execute_result"
    }
   ],
   "source": [
    "# СОЗДАНИЕ НОВЫХ КОЛОНОК\n",
    "df['new_col_1'] = 112 # кастится в pd.Series из констант 112\n",
    "df['new_col_2'] = np.random.randint(0, 2, size=df.shape[0]) # кастится в pd.Series\n",
    "df['new_col_3'] = df.Age ** 2\n",
    "df.head(3)"
   ]
  },
  {
   "cell_type": "code",
   "execution_count": 33,
   "id": "a5d850f0",
   "metadata": {},
   "outputs": [],
   "source": [
    "# создать датафрейм самому:\n",
    "# pd.DataFrame(data=..., index=..., columns=...)\n",
    "\n",
    "# например:\n",
    "pd.DataFrame({'val_1': [1, 2, 3], 'val_2': ['A', 100, True]})"
   ]
  },
  {
   "cell_type": "markdown",
   "id": "bc28b346",
   "metadata": {},
   "source": [
    "## - pd.Series"
   ]
  },
  {
   "cell_type": "code",
   "execution_count": 18,
   "id": "a93a9a7c",
   "metadata": {},
   "outputs": [
    {
     "data": {
      "text/plain": [
       "0             A/5 21171\n",
       "1              PC 17599\n",
       "2      STON/O2. 3101282\n",
       "3                113803\n",
       "4                373450\n",
       "             ...       \n",
       "886              211536\n",
       "887              112053\n",
       "888          W./C. 6607\n",
       "889              111369\n",
       "890              370376\n",
       "Name: Ticket, Length: 891, dtype: object"
      ]
     },
     "execution_count": 18,
     "metadata": {},
     "output_type": "execute_result"
    }
   ],
   "source": [
    "df['Ticket']\n",
    "df.Ticket"
   ]
  },
  {
   "cell_type": "code",
   "execution_count": 27,
   "id": "eab0d0a4",
   "metadata": {},
   "outputs": [
    {
     "data": {
      "text/html": [
       "<div>\n",
       "<style scoped>\n",
       "    .dataframe tbody tr th:only-of-type {\n",
       "        vertical-align: middle;\n",
       "    }\n",
       "\n",
       "    .dataframe tbody tr th {\n",
       "        vertical-align: top;\n",
       "    }\n",
       "\n",
       "    .dataframe thead th {\n",
       "        text-align: right;\n",
       "    }\n",
       "</style>\n",
       "<table border=\"1\" class=\"dataframe\">\n",
       "  <thead>\n",
       "    <tr style=\"text-align: right;\">\n",
       "      <th></th>\n",
       "      <th>PassengerId</th>\n",
       "      <th>Survived</th>\n",
       "      <th>Pclass</th>\n",
       "      <th>Name</th>\n",
       "      <th>Sex</th>\n",
       "      <th>Age</th>\n",
       "      <th>SibSp</th>\n",
       "      <th>Parch</th>\n",
       "      <th>Ticket</th>\n",
       "      <th>Fare</th>\n",
       "      <th>Cabin</th>\n",
       "      <th>Embarked</th>\n",
       "    </tr>\n",
       "  </thead>\n",
       "  <tbody>\n",
       "    <tr>\n",
       "      <th>id_0</th>\n",
       "      <td>1</td>\n",
       "      <td>0</td>\n",
       "      <td>3</td>\n",
       "      <td>Braund, Mr. Owen Harris</td>\n",
       "      <td>male</td>\n",
       "      <td>22.0</td>\n",
       "      <td>1</td>\n",
       "      <td>0</td>\n",
       "      <td>A/5 21171</td>\n",
       "      <td>7.2500</td>\n",
       "      <td>NaN</td>\n",
       "      <td>S</td>\n",
       "    </tr>\n",
       "    <tr>\n",
       "      <th>id_1</th>\n",
       "      <td>2</td>\n",
       "      <td>1</td>\n",
       "      <td>1</td>\n",
       "      <td>Cumings, Mrs. John Bradley (Florence Briggs Th...</td>\n",
       "      <td>female</td>\n",
       "      <td>38.0</td>\n",
       "      <td>1</td>\n",
       "      <td>0</td>\n",
       "      <td>PC 17599</td>\n",
       "      <td>71.2833</td>\n",
       "      <td>C85</td>\n",
       "      <td>C</td>\n",
       "    </tr>\n",
       "  </tbody>\n",
       "</table>\n",
       "</div>"
      ],
      "text/plain": [
       "      PassengerId  Survived  Pclass  \\\n",
       "id_0            1         0       3   \n",
       "id_1            2         1       1   \n",
       "\n",
       "                                                   Name     Sex   Age  SibSp  \\\n",
       "id_0                            Braund, Mr. Owen Harris    male  22.0      1   \n",
       "id_1  Cumings, Mrs. John Bradley (Florence Briggs Th...  female  38.0      1   \n",
       "\n",
       "      Parch     Ticket     Fare Cabin Embarked  \n",
       "id_0      0  A/5 21171   7.2500   NaN        S  \n",
       "id_1      0   PC 17599  71.2833   C85        C  "
      ]
     },
     "execution_count": 27,
     "metadata": {},
     "output_type": "execute_result"
    }
   ],
   "source": [
    "df.set_index('id_' + df.index.astype(str), inplace=True) # поменяем индекс inplace\n",
    "df.head(2)"
   ]
  },
  {
   "cell_type": "code",
   "execution_count": 31,
   "id": "47d20fab",
   "metadata": {},
   "outputs": [
    {
     "data": {
      "text/plain": [
       "PassengerId                          1\n",
       "Survived                             0\n",
       "Pclass                               3\n",
       "Name           Braund, Mr. Owen Harris\n",
       "Sex                               male\n",
       "Age                               22.0\n",
       "SibSp                                1\n",
       "Parch                                0\n",
       "Ticket                       A/5 21171\n",
       "Fare                              7.25\n",
       "Cabin                              NaN\n",
       "Embarked                             S\n",
       "Name: id_0, dtype: object"
      ]
     },
     "execution_count": 31,
     "metadata": {},
     "output_type": "execute_result"
    }
   ],
   "source": [
    "df.loc['id_0'] # обращение к ряду через index. ряд - тоже серия"
   ]
  },
  {
   "cell_type": "code",
   "execution_count": 29,
   "id": "36cc3d9b",
   "metadata": {},
   "outputs": [
    {
     "data": {
      "text/plain": [
       "PassengerId                          1\n",
       "Survived                             0\n",
       "Pclass                               3\n",
       "Name           Braund, Mr. Owen Harris\n",
       "Sex                               male\n",
       "Age                               22.0\n",
       "SibSp                                1\n",
       "Parch                                0\n",
       "Ticket                       A/5 21171\n",
       "Fare                              7.25\n",
       "Cabin                              NaN\n",
       "Embarked                             S\n",
       "Name: id_0, dtype: object"
      ]
     },
     "execution_count": 29,
     "metadata": {},
     "output_type": "execute_result"
    }
   ],
   "source": [
    "df.iloc[0] # обращение к ряду через его позицию в датафрейме"
   ]
  },
  {
   "cell_type": "code",
   "execution_count": 39,
   "id": "4ff378eb",
   "metadata": {
    "scrolled": true
   },
   "outputs": [
    {
     "data": {
      "text/plain": [
       "array([22., 38., 26., 35., 35., nan, 54.,  2., 27., 14.])"
      ]
     },
     "execution_count": 39,
     "metadata": {},
     "output_type": "execute_result"
    }
   ],
   "source": [
    "df.Age.values[:10] # pd.Series в np.array"
   ]
  },
  {
   "cell_type": "code",
   "execution_count": null,
   "id": "b9e94991",
   "metadata": {},
   "outputs": [],
   "source": []
  },
  {
   "cell_type": "markdown",
   "id": "39cb5b64",
   "metadata": {},
   "source": [
    "## - [Типы данных](https://pandas.pydata.org/docs/reference/arrays.html#)\n",
    "- числовые\n",
    "- object\n",
    "- строки + .str\n",
    "- категории + .cat\n",
    "- даты + .dt\n",
    "- NaN\n",
    "- пандовские Nullable ... - забудьте про это"
   ]
  },
  {
   "cell_type": "code",
   "execution_count": 58,
   "id": "95596cc2",
   "metadata": {},
   "outputs": [
    {
     "data": {
      "text/html": [
       "<div>\n",
       "<style scoped>\n",
       "    .dataframe tbody tr th:only-of-type {\n",
       "        vertical-align: middle;\n",
       "    }\n",
       "\n",
       "    .dataframe tbody tr th {\n",
       "        vertical-align: top;\n",
       "    }\n",
       "\n",
       "    .dataframe thead th {\n",
       "        text-align: right;\n",
       "    }\n",
       "</style>\n",
       "<table border=\"1\" class=\"dataframe\">\n",
       "  <thead>\n",
       "    <tr style=\"text-align: right;\">\n",
       "      <th></th>\n",
       "      <th>PassengerId</th>\n",
       "      <th>Survived</th>\n",
       "      <th>Pclass</th>\n",
       "      <th>Name</th>\n",
       "      <th>Sex</th>\n",
       "      <th>Age</th>\n",
       "      <th>SibSp</th>\n",
       "      <th>Parch</th>\n",
       "      <th>Ticket</th>\n",
       "      <th>Fare</th>\n",
       "      <th>Cabin</th>\n",
       "      <th>Embarked</th>\n",
       "      <th>new_col_1</th>\n",
       "      <th>new_col_2</th>\n",
       "      <th>new_col_3</th>\n",
       "    </tr>\n",
       "  </thead>\n",
       "  <tbody>\n",
       "    <tr>\n",
       "      <th>id_0</th>\n",
       "      <td>1</td>\n",
       "      <td>0</td>\n",
       "      <td>3</td>\n",
       "      <td>Braund, Mr. Owen Harris</td>\n",
       "      <td>male</td>\n",
       "      <td>22.0</td>\n",
       "      <td>1</td>\n",
       "      <td>0</td>\n",
       "      <td>A/5 21171</td>\n",
       "      <td>7.2500</td>\n",
       "      <td>NaN</td>\n",
       "      <td>S</td>\n",
       "      <td>112</td>\n",
       "      <td>0</td>\n",
       "      <td>484.0</td>\n",
       "    </tr>\n",
       "    <tr>\n",
       "      <th>id_1</th>\n",
       "      <td>2</td>\n",
       "      <td>1</td>\n",
       "      <td>1</td>\n",
       "      <td>Cumings, Mrs. John Bradley (Florence Briggs Th...</td>\n",
       "      <td>female</td>\n",
       "      <td>38.0</td>\n",
       "      <td>1</td>\n",
       "      <td>0</td>\n",
       "      <td>PC 17599</td>\n",
       "      <td>71.2833</td>\n",
       "      <td>C85</td>\n",
       "      <td>C</td>\n",
       "      <td>112</td>\n",
       "      <td>0</td>\n",
       "      <td>1444.0</td>\n",
       "    </tr>\n",
       "  </tbody>\n",
       "</table>\n",
       "</div>"
      ],
      "text/plain": [
       "      PassengerId  Survived  Pclass  \\\n",
       "id_0            1         0       3   \n",
       "id_1            2         1       1   \n",
       "\n",
       "                                                   Name     Sex   Age  SibSp  \\\n",
       "id_0                            Braund, Mr. Owen Harris    male  22.0      1   \n",
       "id_1  Cumings, Mrs. John Bradley (Florence Briggs Th...  female  38.0      1   \n",
       "\n",
       "      Parch     Ticket     Fare Cabin Embarked  new_col_1  new_col_2  \\\n",
       "id_0      0  A/5 21171   7.2500   NaN        S        112          0   \n",
       "id_1      0   PC 17599  71.2833   C85        C        112          0   \n",
       "\n",
       "      new_col_3  \n",
       "id_0      484.0  \n",
       "id_1     1444.0  "
      ]
     },
     "metadata": {},
     "output_type": "display_data"
    },
    {
     "name": "stdout",
     "output_type": "stream",
     "text": [
      "<class 'pandas.core.frame.DataFrame'>\n",
      "Index: 891 entries, id_0 to id_890\n",
      "Data columns (total 15 columns):\n",
      " #   Column       Non-Null Count  Dtype  \n",
      "---  ------       --------------  -----  \n",
      " 0   PassengerId  891 non-null    int64  \n",
      " 1   Survived     891 non-null    int64  \n",
      " 2   Pclass       891 non-null    int64  \n",
      " 3   Name         891 non-null    object \n",
      " 4   Sex          891 non-null    object \n",
      " 5   Age          714 non-null    float64\n",
      " 6   SibSp        891 non-null    int64  \n",
      " 7   Parch        891 non-null    int64  \n",
      " 8   Ticket       891 non-null    object \n",
      " 9   Fare         891 non-null    float64\n",
      " 10  Cabin        204 non-null    object \n",
      " 11  Embarked     889 non-null    object \n",
      " 12  new_col_1    891 non-null    int64  \n",
      " 13  new_col_2    891 non-null    int32  \n",
      " 14  new_col_3    714 non-null    float64\n",
      "dtypes: float64(3), int32(1), int64(6), object(5)\n",
      "memory usage: 419.3 KB\n"
     ]
    }
   ],
   "source": [
    "display(df.head(2))\n",
    "df.info(memory_usage='deep')"
   ]
  },
  {
   "cell_type": "code",
   "execution_count": null,
   "id": "4ed7408f",
   "metadata": {},
   "outputs": [],
   "source": []
  },
  {
   "cell_type": "markdown",
   "id": "fba5c37f",
   "metadata": {},
   "source": [
    "### `числовые`"
   ]
  },
  {
   "cell_type": "code",
   "execution_count": 61,
   "id": "b56cdc93",
   "metadata": {},
   "outputs": [
    {
     "name": "stdout",
     "output_type": "stream",
     "text": [
      "<class 'pandas.core.frame.DataFrame'>\n",
      "Index: 891 entries, id_0 to id_890\n",
      "Data columns (total 10 columns):\n",
      " #   Column       Non-Null Count  Dtype  \n",
      "---  ------       --------------  -----  \n",
      " 0   PassengerId  891 non-null    int64  \n",
      " 1   Survived     891 non-null    int64  \n",
      " 2   Pclass       891 non-null    int64  \n",
      " 3   Age          714 non-null    float64\n",
      " 4   SibSp        891 non-null    int64  \n",
      " 5   Parch        891 non-null    int64  \n",
      " 6   Fare         891 non-null    float64\n",
      " 7   new_col_1    891 non-null    int64  \n",
      " 8   new_col_2    891 non-null    int32  \n",
      " 9   new_col_3    714 non-null    float64\n",
      "dtypes: float64(3), int32(1), int64(6)\n",
      "memory usage: 105.4+ KB\n"
     ]
    }
   ],
   "source": [
    "df.select_dtypes(np.number).info() # по умолчанию числа - нумпаевские типы данных"
   ]
  },
  {
   "cell_type": "code",
   "execution_count": 68,
   "id": "b11534bb",
   "metadata": {},
   "outputs": [
    {
     "data": {
      "text/plain": [
       "PassengerId    False\n",
       "Survived       False\n",
       "Pclass         False\n",
       "Name           False\n",
       "Sex            False\n",
       "Age            False\n",
       "SibSp          False\n",
       "Parch          False\n",
       "Ticket         False\n",
       "Fare           False\n",
       "Cabin          False\n",
       "Embarked       False\n",
       "new_col_1      False\n",
       "new_col_2       True\n",
       "new_col_3      False\n",
       "dtype: bool"
      ]
     },
     "execution_count": 68,
     "metadata": {},
     "output_type": "execute_result"
    }
   ],
   "source": [
    "df.dtypes == int # приколы"
   ]
  },
  {
   "cell_type": "markdown",
   "id": "073a187e",
   "metadata": {},
   "source": [
    "### `object`"
   ]
  },
  {
   "cell_type": "code",
   "execution_count": 87,
   "id": "fabbac50",
   "metadata": {},
   "outputs": [
    {
     "name": "stdout",
     "output_type": "stream",
     "text": [
      "<class 'pandas.core.frame.DataFrame'>\n",
      "Index: 891 entries, id_0 to id_890\n",
      "Data columns (total 5 columns):\n",
      " #   Column    Non-Null Count  Dtype \n",
      "---  ------    --------------  ----- \n",
      " 0   Name      891 non-null    object\n",
      " 1   Sex       891 non-null    object\n",
      " 2   Ticket    891 non-null    object\n",
      " 3   Cabin     204 non-null    object\n",
      " 4   Embarked  889 non-null    object\n",
      "dtypes: object(5)\n",
      "memory usage: 353.2 KB\n"
     ]
    }
   ],
   "source": [
    "df.select_dtypes(object).info(memory_usage='deep')"
   ]
  },
  {
   "cell_type": "code",
   "execution_count": 107,
   "id": "1009a357",
   "metadata": {},
   "outputs": [
    {
     "data": {
      "text/plain": [
       "47320"
      ]
     },
     "execution_count": 107,
     "metadata": {},
     "output_type": "execute_result"
    }
   ],
   "source": [
    "df.Sex.memory_usage('deep') # в байтах"
   ]
  },
  {
   "cell_type": "markdown",
   "id": "6f0d8d9b",
   "metadata": {},
   "source": [
    "### `string` + [`.str`](https://pandas.pydata.org/docs/reference/series.html#api-series-str)"
   ]
  },
  {
   "cell_type": "code",
   "execution_count": 106,
   "id": "620e5add",
   "metadata": {},
   "outputs": [
    {
     "data": {
      "text/plain": [
       "47320"
      ]
     },
     "execution_count": 106,
     "metadata": {},
     "output_type": "execute_result"
    }
   ],
   "source": [
    "df.Sex.astype(str).memory_usage('deep')"
   ]
  },
  {
   "cell_type": "code",
   "execution_count": 103,
   "id": "de638740",
   "metadata": {},
   "outputs": [
    {
     "data": {
      "text/plain": [
       "id_0      m\n",
       "id_1      f\n",
       "id_2      f\n",
       "id_3      f\n",
       "id_4      m\n",
       "         ..\n",
       "id_886    m\n",
       "id_887    f\n",
       "id_888    f\n",
       "id_889    m\n",
       "id_890    m\n",
       "Name: Sex, Length: 891, dtype: object"
      ]
     },
     "execution_count": 103,
     "metadata": {},
     "output_type": "execute_result"
    }
   ],
   "source": [
    "# пока колонки типа object, не гарантируется корректное выполнение всех методов через .str API\n",
    "df.Name = df.Name.astype(str) # все еще df.select_dtypes(object) :(\n",
    "df.Sex = df.Sex.astype(str)\n",
    "\n",
    "df.Name.str.contains('Mr.') # .startswith, .endswith\n",
    "df.Sex.str.get(0)"
   ]
  },
  {
   "cell_type": "markdown",
   "id": "b1155414",
   "metadata": {},
   "source": [
    "### `category` + [`.cat`](https://pandas.pydata.org/docs/reference/series.html#categorical-accessor)"
   ]
  },
  {
   "cell_type": "code",
   "execution_count": 108,
   "id": "44203900",
   "metadata": {},
   "outputs": [
    {
     "data": {
      "text/plain": [
       "41207"
      ]
     },
     "execution_count": 108,
     "metadata": {},
     "output_type": "execute_result"
    }
   ],
   "source": [
    "# занимает меньше памяти, т.к. хранятся коды-числа и словарик с переводом в строки\n",
    "df.Sex.astype('category').memory_usage('deep')"
   ]
  },
  {
   "cell_type": "code",
   "execution_count": 126,
   "id": "9b6e0252",
   "metadata": {},
   "outputs": [
    {
     "name": "stdout",
     "output_type": "stream",
     "text": [
      "<class 'pandas.core.series.Series'>\n",
      "RangeIndex: 200000 entries, 0 to 199999\n",
      "Series name: None\n",
      "Non-Null Count   Dtype \n",
      "--------------   ----- \n",
      "200000 non-null  object\n",
      "dtypes: object(1)\n",
      "memory usage: 583.1 MB\n",
      "\n",
      "\n",
      "<class 'pandas.core.series.Series'>\n",
      "RangeIndex: 200000 entries, 0 to 199999\n",
      "Series name: None\n",
      "Non-Null Count   Dtype   \n",
      "--------------   -----   \n",
      "200000 non-null  category\n",
      "dtypes: category(1)\n",
      "memory usage: 201.5 KB\n"
     ]
    }
   ],
   "source": [
    "cat_a = 'abc' * 1000\n",
    "cat_b = 'dds' * 1000\n",
    "some_series = pd.Series(np.random.choice([cat_a, cat_b], size=200_000))\n",
    "\n",
    "some_series.info(memory_usage='deep')\n",
    "print('\\n')\n",
    "some_series.astype('category').info(memory_usage='deep')\n",
    "del some_series"
   ]
  },
  {
   "cell_type": "code",
   "execution_count": 115,
   "id": "8897b6e5",
   "metadata": {},
   "outputs": [
    {
     "data": {
      "text/plain": [
       "id_0      1\n",
       "id_1      0\n",
       "id_2      0\n",
       "id_3      0\n",
       "id_4      1\n",
       "         ..\n",
       "id_886    1\n",
       "id_887    0\n",
       "id_888    0\n",
       "id_889    1\n",
       "id_890    1\n",
       "Length: 891, dtype: int8"
      ]
     },
     "execution_count": 115,
     "metadata": {},
     "output_type": "execute_result"
    }
   ],
   "source": [
    "df.Pclass = df.Sex.astype('category') # df.select_dtypes('category')\n",
    "df.Sex.cat.codes # .cat.codes - числа [0, ..., k], k - количество уникальных категорий"
   ]
  },
  {
   "cell_type": "markdown",
   "id": "4ca1239d",
   "metadata": {},
   "source": [
    "### `datetime64`, `timedelta64` + [`.dt`](https://pandas.pydata.org/docs/reference/series.html#datetimelike-properties)\n",
    "\n",
    "- `datetime64`"
   ]
  },
  {
   "cell_type": "code",
   "execution_count": 142,
   "id": "84e2fb78",
   "metadata": {},
   "outputs": [
    {
     "data": {
      "text/plain": [
       "0             2023-01-03\n",
       "1    2023-01-12 13:47:00\n",
       "dtype: object"
      ]
     },
     "execution_count": 142,
     "metadata": {},
     "output_type": "execute_result"
    }
   ],
   "source": [
    "dt_series = pd.Series(['2023-01-03', '2023-01-12 13:47:00'])\n",
    "dt_series"
   ]
  },
  {
   "cell_type": "code",
   "execution_count": 148,
   "id": "293a55a8",
   "metadata": {},
   "outputs": [
    {
     "data": {
      "text/plain": [
       "0   2023-01-03 00:00:00\n",
       "1   2023-01-12 13:47:00\n",
       "dtype: datetime64[ns]"
      ]
     },
     "execution_count": 148,
     "metadata": {},
     "output_type": "execute_result"
    }
   ],
   "source": [
    "dt_series = pd.to_datetime(dt_series, format='mixed') # читайте документацию по аргументу format! \n",
    "dt_series"
   ]
  },
  {
   "cell_type": "code",
   "execution_count": 150,
   "id": "4c145e1a",
   "metadata": {},
   "outputs": [
    {
     "data": {
      "text/plain": [
       "0   2023-01-03 00:00:00\n",
       "1   2023-01-12 14:00:00\n",
       "dtype: datetime64[ns]"
      ]
     },
     "execution_count": 150,
     "metadata": {},
     "output_type": "execute_result"
    }
   ],
   "source": [
    "dt_series.dt.day\n",
    "dt_series.dt.dayofweek\n",
    "dt_series.dt.hour\n",
    "dt_series.dt.round('1H')"
   ]
  },
  {
   "cell_type": "code",
   "execution_count": 167,
   "id": "87b2d968",
   "metadata": {},
   "outputs": [
    {
     "data": {
      "text/plain": [
       "Timestamp('2023-01-03 00:00:00')"
      ]
     },
     "execution_count": 167,
     "metadata": {},
     "output_type": "execute_result"
    }
   ],
   "source": [
    "dt_series[0]"
   ]
  },
  {
   "cell_type": "markdown",
   "id": "a74963d2",
   "metadata": {},
   "source": [
    "- `timedelta64`"
   ]
  },
  {
   "cell_type": "code",
   "execution_count": 152,
   "id": "c9fcf1c7",
   "metadata": {},
   "outputs": [
    {
     "data": {
      "text/plain": [
       "Timedelta('-10 days +10:13:00')"
      ]
     },
     "execution_count": 152,
     "metadata": {},
     "output_type": "execute_result"
    }
   ],
   "source": [
    "some_timedelta = dt_series[0] - dt_series[1]\n",
    "some_timedelta"
   ]
  },
  {
   "cell_type": "code",
   "execution_count": 173,
   "id": "dbbad3c3",
   "metadata": {},
   "outputs": [
    {
     "data": {
      "text/plain": [
       "0    2 days 00:00:00\n",
       "1   11 days 13:47:00\n",
       "dtype: timedelta64[ns]"
      ]
     },
     "execution_count": 173,
     "metadata": {},
     "output_type": "execute_result"
    }
   ],
   "source": [
    "timedelta_series = dt_series - pd.to_datetime(['2023-01-01'] * 2)\n",
    "timedelta_series"
   ]
  },
  {
   "cell_type": "code",
   "execution_count": 182,
   "id": "925beba2",
   "metadata": {},
   "outputs": [
    {
     "data": {
      "text/plain": [
       "0     2\n",
       "1    11\n",
       "dtype: int64"
      ]
     },
     "execution_count": 182,
     "metadata": {},
     "output_type": "execute_result"
    }
   ],
   "source": [
    "timedelta_series.dt.total_seconds()\n",
    "timedelta_series.dt.days"
   ]
  },
  {
   "cell_type": "markdown",
   "id": "0f13cbfb",
   "metadata": {},
   "source": [
    "###  `NaN`"
   ]
  },
  {
   "cell_type": "code",
   "execution_count": 200,
   "id": "adf6d4e5",
   "metadata": {},
   "outputs": [
    {
     "name": "stdout",
     "output_type": "stream",
     "text": [
      "True True True\n",
      "False True False False\n"
     ]
    }
   ],
   "source": [
    "print(pd.isna(np.nan), pd.isna(None), pd.isna(pd.NA))\n",
    "print(np.nan == np.nan, np.nan != np.nan, np.nan > np.nan, np.nan <= np.nan)"
   ]
  },
  {
   "cell_type": "code",
   "execution_count": 73,
   "id": "441752dd",
   "metadata": {},
   "outputs": [
    {
     "data": {
      "text/plain": [
       "0    NaN\n",
       "1    NaN\n",
       "2    1.0\n",
       "dtype: float64"
      ]
     },
     "execution_count": 73,
     "metadata": {},
     "output_type": "execute_result"
    }
   ],
   "source": [
    "pd.Series([np.nan, None, 1]) # серия закастилась в np.float64, поэтому None стал np.nan"
   ]
  },
  {
   "cell_type": "code",
   "execution_count": 100,
   "id": "f3d0fa47",
   "metadata": {},
   "outputs": [
    {
     "data": {
      "text/plain": [
       "0          NaT\n",
       "1          NaT\n",
       "2   2021-01-03\n",
       "dtype: datetime64[ns]"
      ]
     },
     "execution_count": 100,
     "metadata": {},
     "output_type": "execute_result"
    }
   ],
   "source": [
    "pd.to_datetime(pd.Series([np.nan, None, '2021-01-03'])) # мы закастили серию в datetime64, поэтому наны стали NaT (not a time)"
   ]
  },
  {
   "cell_type": "code",
   "execution_count": 197,
   "id": "49e47991",
   "metadata": {},
   "outputs": [
    {
     "data": {
      "text/plain": [
       "0        NaN\n",
       "1       None\n",
       "2    хаха :)\n",
       "dtype: object"
      ]
     },
     "execution_count": 197,
     "metadata": {},
     "output_type": "execute_result"
    }
   ],
   "source": [
    "pd.Series([np.nan, None, 'хаха :)'])"
   ]
  },
  {
   "cell_type": "code",
   "execution_count": 202,
   "id": "517ce90f",
   "metadata": {},
   "outputs": [
    {
     "data": {
      "text/plain": [
       "array(['nan', 'None', 'хаха :)'], dtype=object)"
      ]
     },
     "execution_count": 202,
     "metadata": {},
     "output_type": "execute_result"
    }
   ],
   "source": [
    "pd.Series([np.nan, None, 'хаха :)']).astype(str).values"
   ]
  },
  {
   "cell_type": "code",
   "execution_count": 188,
   "id": "7dcba5f0",
   "metadata": {},
   "outputs": [
    {
     "data": {
      "text/plain": [
       "0     True\n",
       "1    False\n",
       "2     True\n",
       "dtype: bool"
      ]
     },
     "execution_count": 188,
     "metadata": {},
     "output_type": "execute_result"
    }
   ],
   "source": [
    "pd.Series([np.nan, None, True]).astype(bool) # :)"
   ]
  },
  {
   "cell_type": "code",
   "execution_count": 85,
   "id": "e334616f",
   "metadata": {
    "collapsed": true
   },
   "outputs": [
    {
     "ename": "IntCastingNaNError",
     "evalue": "Cannot convert non-finite values (NA or inf) to integer",
     "output_type": "error",
     "traceback": [
      "\u001b[1;31m---------------------------------------------------------------------------\u001b[0m",
      "\u001b[1;31mIntCastingNaNError\u001b[0m                        Traceback (most recent call last)",
      "Input \u001b[1;32mIn [85]\u001b[0m, in \u001b[0;36m<cell line: 1>\u001b[1;34m()\u001b[0m\n\u001b[1;32m----> 1\u001b[0m \u001b[43mpd\u001b[49m\u001b[38;5;241;43m.\u001b[39;49m\u001b[43mSeries\u001b[49m\u001b[43m(\u001b[49m\u001b[43m[\u001b[49m\u001b[43mnp\u001b[49m\u001b[38;5;241;43m.\u001b[39;49m\u001b[43mnan\u001b[49m\u001b[43m,\u001b[49m\u001b[43m \u001b[49m\u001b[38;5;28;43;01mNone\u001b[39;49;00m\u001b[43m,\u001b[49m\u001b[43m \u001b[49m\u001b[38;5;241;43m1\u001b[39;49m\u001b[43m]\u001b[49m\u001b[43m)\u001b[49m\u001b[38;5;241;43m.\u001b[39;49m\u001b[43mastype\u001b[49m\u001b[43m(\u001b[49m\u001b[43mnp\u001b[49m\u001b[38;5;241;43m.\u001b[39;49m\u001b[43mint32\u001b[49m\u001b[43m)\u001b[49m\n",
      "File \u001b[1;32mC:\\Program Files\\Python39\\lib\\site-packages\\pandas\\core\\generic.py:6534\u001b[0m, in \u001b[0;36mNDFrame.astype\u001b[1;34m(self, dtype, copy, errors)\u001b[0m\n\u001b[0;32m   6530\u001b[0m     results \u001b[38;5;241m=\u001b[39m [ser\u001b[38;5;241m.\u001b[39mastype(dtype, copy\u001b[38;5;241m=\u001b[39mcopy) \u001b[38;5;28;01mfor\u001b[39;00m _, ser \u001b[38;5;129;01min\u001b[39;00m \u001b[38;5;28mself\u001b[39m\u001b[38;5;241m.\u001b[39mitems()]\n\u001b[0;32m   6532\u001b[0m \u001b[38;5;28;01melse\u001b[39;00m:\n\u001b[0;32m   6533\u001b[0m     \u001b[38;5;66;03m# else, only a single dtype is given\u001b[39;00m\n\u001b[1;32m-> 6534\u001b[0m     new_data \u001b[38;5;241m=\u001b[39m \u001b[38;5;28;43mself\u001b[39;49m\u001b[38;5;241;43m.\u001b[39;49m\u001b[43m_mgr\u001b[49m\u001b[38;5;241;43m.\u001b[39;49m\u001b[43mastype\u001b[49m\u001b[43m(\u001b[49m\u001b[43mdtype\u001b[49m\u001b[38;5;241;43m=\u001b[39;49m\u001b[43mdtype\u001b[49m\u001b[43m,\u001b[49m\u001b[43m \u001b[49m\u001b[43mcopy\u001b[49m\u001b[38;5;241;43m=\u001b[39;49m\u001b[43mcopy\u001b[49m\u001b[43m,\u001b[49m\u001b[43m \u001b[49m\u001b[43merrors\u001b[49m\u001b[38;5;241;43m=\u001b[39;49m\u001b[43merrors\u001b[49m\u001b[43m)\u001b[49m\n\u001b[0;32m   6535\u001b[0m     res \u001b[38;5;241m=\u001b[39m \u001b[38;5;28mself\u001b[39m\u001b[38;5;241m.\u001b[39m_constructor_from_mgr(new_data, axes\u001b[38;5;241m=\u001b[39mnew_data\u001b[38;5;241m.\u001b[39maxes)\n\u001b[0;32m   6536\u001b[0m     \u001b[38;5;28;01mreturn\u001b[39;00m res\u001b[38;5;241m.\u001b[39m__finalize__(\u001b[38;5;28mself\u001b[39m, method\u001b[38;5;241m=\u001b[39m\u001b[38;5;124m\"\u001b[39m\u001b[38;5;124mastype\u001b[39m\u001b[38;5;124m\"\u001b[39m)\n",
      "File \u001b[1;32mC:\\Program Files\\Python39\\lib\\site-packages\\pandas\\core\\internals\\managers.py:414\u001b[0m, in \u001b[0;36mBaseBlockManager.astype\u001b[1;34m(self, dtype, copy, errors)\u001b[0m\n\u001b[0;32m    411\u001b[0m \u001b[38;5;28;01melif\u001b[39;00m using_copy_on_write():\n\u001b[0;32m    412\u001b[0m     copy \u001b[38;5;241m=\u001b[39m \u001b[38;5;28;01mFalse\u001b[39;00m\n\u001b[1;32m--> 414\u001b[0m \u001b[38;5;28;01mreturn\u001b[39;00m \u001b[38;5;28;43mself\u001b[39;49m\u001b[38;5;241;43m.\u001b[39;49m\u001b[43mapply\u001b[49m\u001b[43m(\u001b[49m\n\u001b[0;32m    415\u001b[0m \u001b[43m    \u001b[49m\u001b[38;5;124;43m\"\u001b[39;49m\u001b[38;5;124;43mastype\u001b[39;49m\u001b[38;5;124;43m\"\u001b[39;49m\u001b[43m,\u001b[49m\n\u001b[0;32m    416\u001b[0m \u001b[43m    \u001b[49m\u001b[43mdtype\u001b[49m\u001b[38;5;241;43m=\u001b[39;49m\u001b[43mdtype\u001b[49m\u001b[43m,\u001b[49m\n\u001b[0;32m    417\u001b[0m \u001b[43m    \u001b[49m\u001b[43mcopy\u001b[49m\u001b[38;5;241;43m=\u001b[39;49m\u001b[43mcopy\u001b[49m\u001b[43m,\u001b[49m\n\u001b[0;32m    418\u001b[0m \u001b[43m    \u001b[49m\u001b[43merrors\u001b[49m\u001b[38;5;241;43m=\u001b[39;49m\u001b[43merrors\u001b[49m\u001b[43m,\u001b[49m\n\u001b[0;32m    419\u001b[0m \u001b[43m    \u001b[49m\u001b[43musing_cow\u001b[49m\u001b[38;5;241;43m=\u001b[39;49m\u001b[43musing_copy_on_write\u001b[49m\u001b[43m(\u001b[49m\u001b[43m)\u001b[49m\u001b[43m,\u001b[49m\n\u001b[0;32m    420\u001b[0m \u001b[43m\u001b[49m\u001b[43m)\u001b[49m\n",
      "File \u001b[1;32mC:\\Program Files\\Python39\\lib\\site-packages\\pandas\\core\\internals\\managers.py:354\u001b[0m, in \u001b[0;36mBaseBlockManager.apply\u001b[1;34m(self, f, align_keys, **kwargs)\u001b[0m\n\u001b[0;32m    352\u001b[0m         applied \u001b[38;5;241m=\u001b[39m b\u001b[38;5;241m.\u001b[39mapply(f, \u001b[38;5;241m*\u001b[39m\u001b[38;5;241m*\u001b[39mkwargs)\n\u001b[0;32m    353\u001b[0m     \u001b[38;5;28;01melse\u001b[39;00m:\n\u001b[1;32m--> 354\u001b[0m         applied \u001b[38;5;241m=\u001b[39m \u001b[38;5;28mgetattr\u001b[39m(b, f)(\u001b[38;5;241m*\u001b[39m\u001b[38;5;241m*\u001b[39mkwargs)\n\u001b[0;32m    355\u001b[0m     result_blocks \u001b[38;5;241m=\u001b[39m extend_blocks(applied, result_blocks)\n\u001b[0;32m    357\u001b[0m out \u001b[38;5;241m=\u001b[39m \u001b[38;5;28mtype\u001b[39m(\u001b[38;5;28mself\u001b[39m)\u001b[38;5;241m.\u001b[39mfrom_blocks(result_blocks, \u001b[38;5;28mself\u001b[39m\u001b[38;5;241m.\u001b[39maxes)\n",
      "File \u001b[1;32mC:\\Program Files\\Python39\\lib\\site-packages\\pandas\\core\\internals\\blocks.py:616\u001b[0m, in \u001b[0;36mBlock.astype\u001b[1;34m(self, dtype, copy, errors, using_cow)\u001b[0m\n\u001b[0;32m    596\u001b[0m \u001b[38;5;124;03m\"\"\"\u001b[39;00m\n\u001b[0;32m    597\u001b[0m \u001b[38;5;124;03mCoerce to the new dtype.\u001b[39;00m\n\u001b[0;32m    598\u001b[0m \n\u001b[1;32m   (...)\u001b[0m\n\u001b[0;32m    612\u001b[0m \u001b[38;5;124;03mBlock\u001b[39;00m\n\u001b[0;32m    613\u001b[0m \u001b[38;5;124;03m\"\"\"\u001b[39;00m\n\u001b[0;32m    614\u001b[0m values \u001b[38;5;241m=\u001b[39m \u001b[38;5;28mself\u001b[39m\u001b[38;5;241m.\u001b[39mvalues\n\u001b[1;32m--> 616\u001b[0m new_values \u001b[38;5;241m=\u001b[39m \u001b[43mastype_array_safe\u001b[49m\u001b[43m(\u001b[49m\u001b[43mvalues\u001b[49m\u001b[43m,\u001b[49m\u001b[43m \u001b[49m\u001b[43mdtype\u001b[49m\u001b[43m,\u001b[49m\u001b[43m \u001b[49m\u001b[43mcopy\u001b[49m\u001b[38;5;241;43m=\u001b[39;49m\u001b[43mcopy\u001b[49m\u001b[43m,\u001b[49m\u001b[43m \u001b[49m\u001b[43merrors\u001b[49m\u001b[38;5;241;43m=\u001b[39;49m\u001b[43merrors\u001b[49m\u001b[43m)\u001b[49m\n\u001b[0;32m    618\u001b[0m new_values \u001b[38;5;241m=\u001b[39m maybe_coerce_values(new_values)\n\u001b[0;32m    620\u001b[0m refs \u001b[38;5;241m=\u001b[39m \u001b[38;5;28;01mNone\u001b[39;00m\n",
      "File \u001b[1;32mC:\\Program Files\\Python39\\lib\\site-packages\\pandas\\core\\dtypes\\astype.py:238\u001b[0m, in \u001b[0;36mastype_array_safe\u001b[1;34m(values, dtype, copy, errors)\u001b[0m\n\u001b[0;32m    235\u001b[0m     dtype \u001b[38;5;241m=\u001b[39m dtype\u001b[38;5;241m.\u001b[39mnumpy_dtype\n\u001b[0;32m    237\u001b[0m \u001b[38;5;28;01mtry\u001b[39;00m:\n\u001b[1;32m--> 238\u001b[0m     new_values \u001b[38;5;241m=\u001b[39m \u001b[43mastype_array\u001b[49m\u001b[43m(\u001b[49m\u001b[43mvalues\u001b[49m\u001b[43m,\u001b[49m\u001b[43m \u001b[49m\u001b[43mdtype\u001b[49m\u001b[43m,\u001b[49m\u001b[43m \u001b[49m\u001b[43mcopy\u001b[49m\u001b[38;5;241;43m=\u001b[39;49m\u001b[43mcopy\u001b[49m\u001b[43m)\u001b[49m\n\u001b[0;32m    239\u001b[0m \u001b[38;5;28;01mexcept\u001b[39;00m (\u001b[38;5;167;01mValueError\u001b[39;00m, \u001b[38;5;167;01mTypeError\u001b[39;00m):\n\u001b[0;32m    240\u001b[0m     \u001b[38;5;66;03m# e.g. _astype_nansafe can fail on object-dtype of strings\u001b[39;00m\n\u001b[0;32m    241\u001b[0m     \u001b[38;5;66;03m#  trying to convert to float\u001b[39;00m\n\u001b[0;32m    242\u001b[0m     \u001b[38;5;28;01mif\u001b[39;00m errors \u001b[38;5;241m==\u001b[39m \u001b[38;5;124m\"\u001b[39m\u001b[38;5;124mignore\u001b[39m\u001b[38;5;124m\"\u001b[39m:\n",
      "File \u001b[1;32mC:\\Program Files\\Python39\\lib\\site-packages\\pandas\\core\\dtypes\\astype.py:183\u001b[0m, in \u001b[0;36mastype_array\u001b[1;34m(values, dtype, copy)\u001b[0m\n\u001b[0;32m    180\u001b[0m     values \u001b[38;5;241m=\u001b[39m values\u001b[38;5;241m.\u001b[39mastype(dtype, copy\u001b[38;5;241m=\u001b[39mcopy)\n\u001b[0;32m    182\u001b[0m \u001b[38;5;28;01melse\u001b[39;00m:\n\u001b[1;32m--> 183\u001b[0m     values \u001b[38;5;241m=\u001b[39m \u001b[43m_astype_nansafe\u001b[49m\u001b[43m(\u001b[49m\u001b[43mvalues\u001b[49m\u001b[43m,\u001b[49m\u001b[43m \u001b[49m\u001b[43mdtype\u001b[49m\u001b[43m,\u001b[49m\u001b[43m \u001b[49m\u001b[43mcopy\u001b[49m\u001b[38;5;241;43m=\u001b[39;49m\u001b[43mcopy\u001b[49m\u001b[43m)\u001b[49m\n\u001b[0;32m    185\u001b[0m \u001b[38;5;66;03m# in pandas we don't store numpy str dtypes, so convert to object\u001b[39;00m\n\u001b[0;32m    186\u001b[0m \u001b[38;5;28;01mif\u001b[39;00m \u001b[38;5;28misinstance\u001b[39m(dtype, np\u001b[38;5;241m.\u001b[39mdtype) \u001b[38;5;129;01mand\u001b[39;00m \u001b[38;5;28missubclass\u001b[39m(values\u001b[38;5;241m.\u001b[39mdtype\u001b[38;5;241m.\u001b[39mtype, \u001b[38;5;28mstr\u001b[39m):\n",
      "File \u001b[1;32mC:\\Program Files\\Python39\\lib\\site-packages\\pandas\\core\\dtypes\\astype.py:101\u001b[0m, in \u001b[0;36m_astype_nansafe\u001b[1;34m(arr, dtype, copy, skipna)\u001b[0m\n\u001b[0;32m     96\u001b[0m     \u001b[38;5;28;01mreturn\u001b[39;00m lib\u001b[38;5;241m.\u001b[39mensure_string_array(\n\u001b[0;32m     97\u001b[0m         arr, skipna\u001b[38;5;241m=\u001b[39mskipna, convert_na_value\u001b[38;5;241m=\u001b[39m\u001b[38;5;28;01mFalse\u001b[39;00m\n\u001b[0;32m     98\u001b[0m     )\u001b[38;5;241m.\u001b[39mreshape(shape)\n\u001b[0;32m    100\u001b[0m \u001b[38;5;28;01melif\u001b[39;00m np\u001b[38;5;241m.\u001b[39missubdtype(arr\u001b[38;5;241m.\u001b[39mdtype, np\u001b[38;5;241m.\u001b[39mfloating) \u001b[38;5;129;01mand\u001b[39;00m dtype\u001b[38;5;241m.\u001b[39mkind \u001b[38;5;129;01min\u001b[39;00m \u001b[38;5;124m\"\u001b[39m\u001b[38;5;124miu\u001b[39m\u001b[38;5;124m\"\u001b[39m:\n\u001b[1;32m--> 101\u001b[0m     \u001b[38;5;28;01mreturn\u001b[39;00m \u001b[43m_astype_float_to_int_nansafe\u001b[49m\u001b[43m(\u001b[49m\u001b[43marr\u001b[49m\u001b[43m,\u001b[49m\u001b[43m \u001b[49m\u001b[43mdtype\u001b[49m\u001b[43m,\u001b[49m\u001b[43m \u001b[49m\u001b[43mcopy\u001b[49m\u001b[43m)\u001b[49m\n\u001b[0;32m    103\u001b[0m \u001b[38;5;28;01melif\u001b[39;00m arr\u001b[38;5;241m.\u001b[39mdtype \u001b[38;5;241m==\u001b[39m \u001b[38;5;28mobject\u001b[39m:\n\u001b[0;32m    104\u001b[0m     \u001b[38;5;66;03m# if we have a datetime/timedelta array of objects\u001b[39;00m\n\u001b[0;32m    105\u001b[0m     \u001b[38;5;66;03m# then coerce to datetime64[ns] and use DatetimeArray.astype\u001b[39;00m\n\u001b[0;32m    107\u001b[0m     \u001b[38;5;28;01mif\u001b[39;00m lib\u001b[38;5;241m.\u001b[39mis_np_dtype(dtype, \u001b[38;5;124m\"\u001b[39m\u001b[38;5;124mM\u001b[39m\u001b[38;5;124m\"\u001b[39m):\n",
      "File \u001b[1;32mC:\\Program Files\\Python39\\lib\\site-packages\\pandas\\core\\dtypes\\astype.py:146\u001b[0m, in \u001b[0;36m_astype_float_to_int_nansafe\u001b[1;34m(values, dtype, copy)\u001b[0m\n\u001b[0;32m    142\u001b[0m \u001b[38;5;124;03m\"\"\"\u001b[39;00m\n\u001b[0;32m    143\u001b[0m \u001b[38;5;124;03mastype with a check preventing converting NaN to an meaningless integer value.\u001b[39;00m\n\u001b[0;32m    144\u001b[0m \u001b[38;5;124;03m\"\"\"\u001b[39;00m\n\u001b[0;32m    145\u001b[0m \u001b[38;5;28;01mif\u001b[39;00m \u001b[38;5;129;01mnot\u001b[39;00m np\u001b[38;5;241m.\u001b[39misfinite(values)\u001b[38;5;241m.\u001b[39mall():\n\u001b[1;32m--> 146\u001b[0m     \u001b[38;5;28;01mraise\u001b[39;00m IntCastingNaNError(\n\u001b[0;32m    147\u001b[0m         \u001b[38;5;124m\"\u001b[39m\u001b[38;5;124mCannot convert non-finite values (NA or inf) to integer\u001b[39m\u001b[38;5;124m\"\u001b[39m\n\u001b[0;32m    148\u001b[0m     )\n\u001b[0;32m    149\u001b[0m \u001b[38;5;28;01mif\u001b[39;00m dtype\u001b[38;5;241m.\u001b[39mkind \u001b[38;5;241m==\u001b[39m \u001b[38;5;124m\"\u001b[39m\u001b[38;5;124mu\u001b[39m\u001b[38;5;124m\"\u001b[39m:\n\u001b[0;32m    150\u001b[0m     \u001b[38;5;66;03m# GH#45151\u001b[39;00m\n\u001b[0;32m    151\u001b[0m     \u001b[38;5;28;01mif\u001b[39;00m \u001b[38;5;129;01mnot\u001b[39;00m (values \u001b[38;5;241m>\u001b[39m\u001b[38;5;241m=\u001b[39m \u001b[38;5;241m0\u001b[39m)\u001b[38;5;241m.\u001b[39mall():\n",
      "\u001b[1;31mIntCastingNaNError\u001b[0m: Cannot convert non-finite values (NA or inf) to integer"
     ]
    }
   ],
   "source": [
    "pd.Series([np.nan, None, 1]).astype(np.int32) # интовые типы numpy не поддерживают наны"
   ]
  },
  {
   "cell_type": "code",
   "execution_count": null,
   "id": "d5c4186a",
   "metadata": {},
   "outputs": [],
   "source": []
  },
  {
   "cell_type": "markdown",
   "id": "51b192ac",
   "metadata": {},
   "source": [
    "## - subqueries: `.loc`, `.iloc`, [`.query`](https://pandas.pydata.org/docs/reference/api/pandas.DataFrame.query.html)"
   ]
  },
  {
   "cell_type": "code",
   "execution_count": 43,
   "id": "fae03d96",
   "metadata": {},
   "outputs": [
    {
     "data": {
      "text/html": [
       "<div>\n",
       "<style scoped>\n",
       "    .dataframe tbody tr th:only-of-type {\n",
       "        vertical-align: middle;\n",
       "    }\n",
       "\n",
       "    .dataframe tbody tr th {\n",
       "        vertical-align: top;\n",
       "    }\n",
       "\n",
       "    .dataframe thead th {\n",
       "        text-align: right;\n",
       "    }\n",
       "</style>\n",
       "<table border=\"1\" class=\"dataframe\">\n",
       "  <thead>\n",
       "    <tr style=\"text-align: right;\">\n",
       "      <th></th>\n",
       "      <th>Pclass</th>\n",
       "      <th>Name</th>\n",
       "    </tr>\n",
       "  </thead>\n",
       "  <tbody>\n",
       "    <tr>\n",
       "      <th>id_13</th>\n",
       "      <td>3</td>\n",
       "      <td>Andersson, Mr. Anders Johan</td>\n",
       "    </tr>\n",
       "    <tr>\n",
       "      <th>id_14</th>\n",
       "      <td>3</td>\n",
       "      <td>Vestrom, Miss. Hulda Amanda Adolfina</td>\n",
       "    </tr>\n",
       "    <tr>\n",
       "      <th>id_15</th>\n",
       "      <td>2</td>\n",
       "      <td>Hewlett, Mrs. (Mary D Kingcome)</td>\n",
       "    </tr>\n",
       "    <tr>\n",
       "      <th>id_16</th>\n",
       "      <td>3</td>\n",
       "      <td>Rice, Master. Eugene</td>\n",
       "    </tr>\n",
       "    <tr>\n",
       "      <th>id_17</th>\n",
       "      <td>2</td>\n",
       "      <td>Williams, Mr. Charles Eugene</td>\n",
       "    </tr>\n",
       "    <tr>\n",
       "      <th>...</th>\n",
       "      <td>...</td>\n",
       "      <td>...</td>\n",
       "    </tr>\n",
       "    <tr>\n",
       "      <th>id_108</th>\n",
       "      <td>3</td>\n",
       "      <td>Rekic, Mr. Tido</td>\n",
       "    </tr>\n",
       "    <tr>\n",
       "      <th>id_109</th>\n",
       "      <td>3</td>\n",
       "      <td>Moran, Miss. Bertha</td>\n",
       "    </tr>\n",
       "    <tr>\n",
       "      <th>id_110</th>\n",
       "      <td>1</td>\n",
       "      <td>Porter, Mr. Walter Chamberlain</td>\n",
       "    </tr>\n",
       "    <tr>\n",
       "      <th>id_111</th>\n",
       "      <td>3</td>\n",
       "      <td>Zabour, Miss. Hileni</td>\n",
       "    </tr>\n",
       "    <tr>\n",
       "      <th>id_112</th>\n",
       "      <td>3</td>\n",
       "      <td>Barton, Mr. David John</td>\n",
       "    </tr>\n",
       "  </tbody>\n",
       "</table>\n",
       "<p>100 rows × 2 columns</p>\n",
       "</div>"
      ],
      "text/plain": [
       "        Pclass                                  Name\n",
       "id_13        3           Andersson, Mr. Anders Johan\n",
       "id_14        3  Vestrom, Miss. Hulda Amanda Adolfina\n",
       "id_15        2      Hewlett, Mrs. (Mary D Kingcome) \n",
       "id_16        3                  Rice, Master. Eugene\n",
       "id_17        2          Williams, Mr. Charles Eugene\n",
       "...        ...                                   ...\n",
       "id_108       3                       Rekic, Mr. Tido\n",
       "id_109       3                   Moran, Miss. Bertha\n",
       "id_110       1        Porter, Mr. Walter Chamberlain\n",
       "id_111       3                  Zabour, Miss. Hileni\n",
       "id_112       3                Barton, Mr. David John\n",
       "\n",
       "[100 rows x 2 columns]"
      ]
     },
     "execution_count": 43,
     "metadata": {},
     "output_type": "execute_result"
    }
   ],
   "source": [
    "# ЧЕРЕЗ .loc / .iloc\n",
    "df.loc[(df.Age < 12) | (df.Age.isnull()), 'Age'] # Series\n",
    "df.loc[(df.Age < 12) | (df.Age.isnull()), ['Age']] # DataFrame\n",
    "df.loc[(df.Age < 12) | (df.Age.isnull()), ['Age', 'Pclass']] # DataFrame\n",
    "df.loc[(df.Age < 12) | (df.Age.isnull())] # DataFrame со всеми колонками\n",
    "df[(df.Age < 12) | (df.Age.isnull())] # то что выше, но короче\n",
    "df.loc[:, ['Age', 'Pclass']] # ~ df[['Age', 'Pclass']]\n",
    "df.loc[df.Age.isnull(), 'Age'] = 35 # присваивание\n",
    "df.iloc[13:113, [2, 3]]"
   ]
  },
  {
   "cell_type": "code",
   "execution_count": 207,
   "id": "edaebd59",
   "metadata": {},
   "outputs": [
    {
     "data": {
      "text/plain": [
       "id_1     Cumings, Mrs. John Bradley (Florence Briggs Th...\n",
       "id_8     Johnson, Mrs. Oscar W (Elisabeth Vilhelmina Berg)\n",
       "id_41    Turpin, Mrs. William John Robert (Dorothy Ann ...\n",
       "Name: Name, dtype: object"
      ]
     },
     "execution_count": 207,
     "metadata": {},
     "output_type": "execute_result"
    }
   ],
   "source": [
    "# ЧЕРЕЗ .query\n",
    "# Если можно выразить ваше желание через .query, используйте .query!\n",
    "\n",
    "max_age = 12\n",
    "df.query('Age < @max_age or Age.isnull()') # DataFrame\n",
    "df.query('Name.str.contains(\"John\")').Name.head(3) # Series"
   ]
  },
  {
   "cell_type": "code",
   "execution_count": null,
   "id": "688e5c78",
   "metadata": {},
   "outputs": [],
   "source": []
  },
  {
   "cell_type": "markdown",
   "id": "76a69991",
   "metadata": {},
   "source": [
    "## - [операции с pd.Series](https://pandas.pydata.org/docs/reference/series.html)\n",
    "\n",
    "- +-*/&| vs .add, ...\n",
    "- сравнения\n",
    "- `apply, agg, map, transform`\n",
    "- [stats](https://pandas.pydata.org/docs/reference/series.html#computations-descriptive-stats)\n",
    "- `value_counts`\n",
    "- round - округлить\n",
    "- nunique, unique - уникальные элементы\n",
    "- replace - заменить одни значения на другие\n",
    "- dropna - выкинуть пропуски\n",
    "- drop_duplicates - выкинуть дубликаты\n",
    "- sample - посэмлить случайные объекты. учтите, что индекс перемешивается\n",
    "- sort_values, sort_index\n",
    "- `plot`\n",
    "- to_dict - вернуть в качестве словарика {index: value, ...}"
   ]
  },
  {
   "cell_type": "code",
   "execution_count": null,
   "id": "119b3815",
   "metadata": {},
   "outputs": [],
   "source": []
  },
  {
   "cell_type": "markdown",
   "id": "792ae57f",
   "metadata": {},
   "source": [
    "### `apply, agg, map, transform`"
   ]
  },
  {
   "cell_type": "code",
   "execution_count": 219,
   "id": "f4c4bdbe",
   "metadata": {},
   "outputs": [
    {
     "data": {
      "text/plain": [
       "0     1.0\n",
       "1    10.0\n",
       "2    20.0\n",
       "3     NaN\n",
       "dtype: float64"
      ]
     },
     "execution_count": 219,
     "metadata": {},
     "output_type": "execute_result"
    }
   ],
   "source": [
    "numeric_series = pd.Series([1, 10, 20, np.nan])\n",
    "numeric_series"
   ]
  },
  {
   "cell_type": "markdown",
   "id": "0059f46d",
   "metadata": {},
   "source": [
    "- `apply` - Invoke function on values of Series.\n",
    "\n",
    "Can be ufunc (a NumPy function that applies to the entire Series) or a Python function that only works on single values."
   ]
  },
  {
   "cell_type": "code",
   "execution_count": 259,
   "id": "b7ce55be",
   "metadata": {},
   "outputs": [
    {
     "data": {
      "text/plain": [
       "31.0"
      ]
     },
     "execution_count": 259,
     "metadata": {},
     "output_type": "execute_result"
    }
   ],
   "source": [
    "numeric_series.apply(lambda x: x ** 2 if x > 5 else np.nan) # поэлементно\n",
    "numeric_series.apply('sum') # ко всей серии"
   ]
  },
  {
   "cell_type": "markdown",
   "id": "de679a60",
   "metadata": {},
   "source": [
    "- `agg` - применить агрегирующие функции вида `pd.Series -> scalar`"
   ]
  },
  {
   "cell_type": "code",
   "execution_count": 226,
   "id": "47125d6c",
   "metadata": {},
   "outputs": [
    {
     "data": {
      "text/plain": [
       "mean        10.333333\n",
       "sum         31.000000\n",
       "<lambda>    31.000000\n",
       "dtype: float64"
      ]
     },
     "execution_count": 226,
     "metadata": {},
     "output_type": "execute_result"
    }
   ],
   "source": [
    "numeric_series.agg(['mean', 'sum', lambda x: x.sum()])"
   ]
  },
  {
   "cell_type": "markdown",
   "id": "38f24302",
   "metadata": {},
   "source": [
    "- `map` - замена одних значений на другие"
   ]
  },
  {
   "cell_type": "code",
   "execution_count": 229,
   "id": "6bcd7186",
   "metadata": {},
   "outputs": [
    {
     "data": {
      "text/plain": [
       "0     2.0\n",
       "1    11.0\n",
       "2    21.0\n",
       "3     NaN\n",
       "dtype: float64"
      ]
     },
     "execution_count": 229,
     "metadata": {},
     "output_type": "execute_result"
    }
   ],
   "source": [
    "numeric_series.map({1.: 120, np.nan: 32})\n",
    "numeric_series.map(lambda x: x + 1)"
   ]
  },
  {
   "cell_type": "markdown",
   "id": "186e3c19",
   "metadata": {},
   "source": [
    "- `transform` -  Call func on self producing a Series with the same axis shape as self"
   ]
  },
  {
   "cell_type": "code",
   "execution_count": 230,
   "id": "2e78dcf8",
   "metadata": {},
   "outputs": [
    {
     "data": {
      "text/plain": [
       "0     1.0\n",
       "1    11.0\n",
       "2    22.0\n",
       "3     NaN\n",
       "dtype: float64"
      ]
     },
     "execution_count": 230,
     "metadata": {},
     "output_type": "execute_result"
    }
   ],
   "source": [
    "def my_func(input_series: pd.Series):\n",
    "    tmp_series = pd.Series(np.arange(input_series.shape[0]))\n",
    "    return input_series + tmp_series\n",
    "\n",
    "numeric_series.transform(my_func)"
   ]
  },
  {
   "cell_type": "code",
   "execution_count": null,
   "id": "0ca5374f",
   "metadata": {},
   "outputs": [],
   "source": []
  },
  {
   "cell_type": "markdown",
   "id": "3ac412c7",
   "metadata": {},
   "source": [
    "### `value_counts` - просто очень полезно"
   ]
  },
  {
   "cell_type": "code",
   "execution_count": 247,
   "id": "d4518f23",
   "metadata": {},
   "outputs": [
    {
     "data": {
      "text/plain": [
       "D    0.382\n",
       "C    0.314\n",
       "B    0.204\n",
       "A    0.100\n",
       "Name: proportion, dtype: float64"
      ]
     },
     "execution_count": 247,
     "metadata": {},
     "output_type": "execute_result"
    }
   ],
   "source": [
    "some_series = pd.Series(np.random.choice([*'ABCD'], size=1000, p=[0.1, 0.2, 0.3, 0.4]))\n",
    "some_series.value_counts()\n",
    "some_series.value_counts(dropna=True, normalize=True, bins=None)"
   ]
  },
  {
   "cell_type": "code",
   "execution_count": null,
   "id": "b51a2b96",
   "metadata": {},
   "outputs": [],
   "source": []
  },
  {
   "cell_type": "markdown",
   "id": "80b53aa3",
   "metadata": {},
   "source": [
    "### [`plot`](https://pandas.pydata.org/docs/reference/api/pandas.Series.plot.html#pandas-series-plot) - если нужно по-быстрому"
   ]
  },
  {
   "cell_type": "code",
   "execution_count": 258,
   "id": "affd6f27",
   "metadata": {},
   "outputs": [
    {
     "data": {
      "text/plain": [
       "<Axes: ylabel='Frequency'>"
      ]
     },
     "execution_count": 258,
     "metadata": {},
     "output_type": "execute_result"
    },
    {
     "data": {
      "image/png": "[encoded data removed]",
      "text/plain": [
       "<Figure size 432x288 with 1 Axes>"
      ]
     },
     "metadata": {
      "needs_background": "light"
     },
     "output_type": "display_data"
    }
   ],
   "source": [
    "some_series = pd.Series(np.random.normal(size=1000))\n",
    "some_series.plot(kind='hist', bins=33)"
   ]
  },
  {
   "cell_type": "code",
   "execution_count": null,
   "id": "d39f4234",
   "metadata": {},
   "outputs": [],
   "source": []
  },
  {
   "cell_type": "markdown",
   "id": "6f0a62ed",
   "metadata": {},
   "source": [
    "## - [операции с pd.DataFrame](https://pandas.pydata.org/docs/reference/frame.html)\n",
    "\n",
    "- `groupby`\n",
    "- iterrows - забудьте про это\n",
    "- rolling - скользящие окна\n",
    "- query - симпатичный способ общаться с датафреймом\n",
    "- corr - построить матрицу корреляций признаков\n",
    "- drop - выкинуть какие-то столбцы / строки\n",
    "- drop_duplicates\n",
    "- reset_index - сбросить индекс к RangeIndex(0, N)\n",
    "- sort_values - отсортировать по столбцу\n",
    "- `merge`\n",
    "- sample\n",
    "- assign - присвоить новые столбцы и вернуть результат как новый датафрейм\n",
    "- to_csv, to_parquet - сохранить датафрейм. про parquet поговорим во втором семестре\n"
   ]
  },
  {
   "attachments": {},
   "cell_type": "markdown",
   "id": "32cd03a8",
   "metadata": {},
   "source": [
    "### `groupby`\n",
    "\n",
    "<img src='![image.png](attachment:image.png)'>"
   ]
  },
  {
   "cell_type": "code",
   "execution_count": null,
   "id": "0c5565ac",
   "metadata": {},
   "outputs": [],
   "source": []
  },
  {
   "cell_type": "markdown",
   "id": "cdaafa5b",
   "metadata": {},
   "source": [
    "## - [General functions](https://pandas.pydata.org/docs/reference/general_functions.html)\n",
    "\n",
    "- cut, qcut - нарезать числовой признак на бины\n",
    "- `concat`\n",
    "- get_dummies - One-Hot Encoding\n",
    "- to_numeric, to_datetime - перевести в числовой формат / в формат datetime64 \n",
    "- date_range - интервал дат с заданной периодичностью / размером"
   ]
  },
  {
   "cell_type": "code",
   "execution_count": null,
   "id": "1cadbccc",
   "metadata": {},
   "outputs": [],
   "source": []
  },
  {
   "cell_type": "markdown",
   "id": "7cec2f1a",
   "metadata": {},
   "source": [
    "## - [*Style](https://pandas.pydata.org/docs/user_guide/style.html)"
   ]
  },
  {
   "cell_type": "code",
   "execution_count": 214,
   "id": "dba3efec",
   "metadata": {},
   "outputs": [
    {
     "data": {
      "text/html": [
       "<style type=\"text/css\">\n",
       "#T_2607b_row0_col0, #T_2607b_row0_col1, #T_2607b_row0_col5, #T_2607b_row0_col7, #T_2607b_row0_col9, #T_2607b_row0_col12, #T_2607b_row0_col13, #T_2607b_row1_col7, #T_2607b_row1_col12, #T_2607b_row1_col13, #T_2607b_row2_col6, #T_2607b_row2_col7, #T_2607b_row2_col12, #T_2607b_row2_col13, #T_2607b_row3_col7, #T_2607b_row3_col12, #T_2607b_row3_col13, #T_2607b_row4_col1, #T_2607b_row4_col6, #T_2607b_row4_col7, #T_2607b_row4_col12 {\n",
       "  background-color: #fff7fb;\n",
       "  color: #000000;\n",
       "}\n",
       "#T_2607b_row0_col6, #T_2607b_row1_col1, #T_2607b_row1_col5, #T_2607b_row1_col6, #T_2607b_row1_col9, #T_2607b_row2_col1, #T_2607b_row3_col1, #T_2607b_row3_col6, #T_2607b_row4_col0, #T_2607b_row4_col13 {\n",
       "  background-color: #023858;\n",
       "  color: #f1f1f1;\n",
       "}\n",
       "#T_2607b_row1_col0, #T_2607b_row2_col5 {\n",
       "  background-color: #d0d1e6;\n",
       "  color: #000000;\n",
       "}\n",
       "#T_2607b_row2_col0 {\n",
       "  background-color: #73a9cf;\n",
       "  color: #f1f1f1;\n",
       "}\n",
       "#T_2607b_row2_col9 {\n",
       "  background-color: #fef6fa;\n",
       "  color: #000000;\n",
       "}\n",
       "#T_2607b_row3_col0 {\n",
       "  background-color: #056faf;\n",
       "  color: #f1f1f1;\n",
       "}\n",
       "#T_2607b_row3_col5, #T_2607b_row4_col5 {\n",
       "  background-color: #04649e;\n",
       "  color: #f1f1f1;\n",
       "}\n",
       "#T_2607b_row3_col9 {\n",
       "  background-color: #1278b4;\n",
       "  color: #f1f1f1;\n",
       "}\n",
       "#T_2607b_row4_col9 {\n",
       "  background-color: #fdf5fa;\n",
       "  color: #000000;\n",
       "}\n",
       "</style>\n",
       "<table id=\"T_2607b\">\n",
       "  <thead>\n",
       "    <tr>\n",
       "      <th class=\"blank level0\" >&nbsp;</th>\n",
       "      <th id=\"T_2607b_level0_col0\" class=\"col_heading level0 col0\" >PassengerId</th>\n",
       "      <th id=\"T_2607b_level0_col1\" class=\"col_heading level0 col1\" >Survived</th>\n",
       "      <th id=\"T_2607b_level0_col2\" class=\"col_heading level0 col2\" >Pclass</th>\n",
       "      <th id=\"T_2607b_level0_col3\" class=\"col_heading level0 col3\" >Name</th>\n",
       "      <th id=\"T_2607b_level0_col4\" class=\"col_heading level0 col4\" >Sex</th>\n",
       "      <th id=\"T_2607b_level0_col5\" class=\"col_heading level0 col5\" >Age</th>\n",
       "      <th id=\"T_2607b_level0_col6\" class=\"col_heading level0 col6\" >SibSp</th>\n",
       "      <th id=\"T_2607b_level0_col7\" class=\"col_heading level0 col7\" >Parch</th>\n",
       "      <th id=\"T_2607b_level0_col8\" class=\"col_heading level0 col8\" >Ticket</th>\n",
       "      <th id=\"T_2607b_level0_col9\" class=\"col_heading level0 col9\" >Fare</th>\n",
       "      <th id=\"T_2607b_level0_col10\" class=\"col_heading level0 col10\" >Cabin</th>\n",
       "      <th id=\"T_2607b_level0_col11\" class=\"col_heading level0 col11\" >Embarked</th>\n",
       "      <th id=\"T_2607b_level0_col12\" class=\"col_heading level0 col12\" >new_col_1</th>\n",
       "      <th id=\"T_2607b_level0_col13\" class=\"col_heading level0 col13\" >new_col_2</th>\n",
       "    </tr>\n",
       "  </thead>\n",
       "  <tbody>\n",
       "    <tr>\n",
       "      <th id=\"T_2607b_level0_row0\" class=\"row_heading level0 row0\" >id_0</th>\n",
       "      <td id=\"T_2607b_row0_col0\" class=\"data row0 col0\" >1</td>\n",
       "      <td id=\"T_2607b_row0_col1\" class=\"data row0 col1\" >0</td>\n",
       "      <td id=\"T_2607b_row0_col2\" class=\"data row0 col2\" >male</td>\n",
       "      <td id=\"T_2607b_row0_col3\" class=\"data row0 col3\" >Braund, Mr. Owen Harris</td>\n",
       "      <td id=\"T_2607b_row0_col4\" class=\"data row0 col4\" >male</td>\n",
       "      <td id=\"T_2607b_row0_col5\" class=\"data row0 col5\" >22.000000</td>\n",
       "      <td id=\"T_2607b_row0_col6\" class=\"data row0 col6\" >1</td>\n",
       "      <td id=\"T_2607b_row0_col7\" class=\"data row0 col7\" >0</td>\n",
       "      <td id=\"T_2607b_row0_col8\" class=\"data row0 col8\" >A/5 21171</td>\n",
       "      <td id=\"T_2607b_row0_col9\" class=\"data row0 col9\" >7.250000</td>\n",
       "      <td id=\"T_2607b_row0_col10\" class=\"data row0 col10\" >nan</td>\n",
       "      <td id=\"T_2607b_row0_col11\" class=\"data row0 col11\" >S</td>\n",
       "      <td id=\"T_2607b_row0_col12\" class=\"data row0 col12\" >112</td>\n",
       "      <td id=\"T_2607b_row0_col13\" class=\"data row0 col13\" >0</td>\n",
       "    </tr>\n",
       "    <tr>\n",
       "      <th id=\"T_2607b_level0_row1\" class=\"row_heading level0 row1\" >id_1</th>\n",
       "      <td id=\"T_2607b_row1_col0\" class=\"data row1 col0\" >2</td>\n",
       "      <td id=\"T_2607b_row1_col1\" class=\"data row1 col1\" >1</td>\n",
       "      <td id=\"T_2607b_row1_col2\" class=\"data row1 col2\" >female</td>\n",
       "      <td id=\"T_2607b_row1_col3\" class=\"data row1 col3\" >Cumings, Mrs. John Bradley (Florence Briggs Thayer)</td>\n",
       "      <td id=\"T_2607b_row1_col4\" class=\"data row1 col4\" >female</td>\n",
       "      <td id=\"T_2607b_row1_col5\" class=\"data row1 col5\" >38.000000</td>\n",
       "      <td id=\"T_2607b_row1_col6\" class=\"data row1 col6\" >1</td>\n",
       "      <td id=\"T_2607b_row1_col7\" class=\"data row1 col7\" >0</td>\n",
       "      <td id=\"T_2607b_row1_col8\" class=\"data row1 col8\" >PC 17599</td>\n",
       "      <td id=\"T_2607b_row1_col9\" class=\"data row1 col9\" >71.283300</td>\n",
       "      <td id=\"T_2607b_row1_col10\" class=\"data row1 col10\" >C85</td>\n",
       "      <td id=\"T_2607b_row1_col11\" class=\"data row1 col11\" >C</td>\n",
       "      <td id=\"T_2607b_row1_col12\" class=\"data row1 col12\" >112</td>\n",
       "      <td id=\"T_2607b_row1_col13\" class=\"data row1 col13\" >0</td>\n",
       "    </tr>\n",
       "    <tr>\n",
       "      <th id=\"T_2607b_level0_row2\" class=\"row_heading level0 row2\" >id_2</th>\n",
       "      <td id=\"T_2607b_row2_col0\" class=\"data row2 col0\" >3</td>\n",
       "      <td id=\"T_2607b_row2_col1\" class=\"data row2 col1\" >1</td>\n",
       "      <td id=\"T_2607b_row2_col2\" class=\"data row2 col2\" >female</td>\n",
       "      <td id=\"T_2607b_row2_col3\" class=\"data row2 col3\" >Heikkinen, Miss. Laina</td>\n",
       "      <td id=\"T_2607b_row2_col4\" class=\"data row2 col4\" >female</td>\n",
       "      <td id=\"T_2607b_row2_col5\" class=\"data row2 col5\" >26.000000</td>\n",
       "      <td id=\"T_2607b_row2_col6\" class=\"data row2 col6\" >0</td>\n",
       "      <td id=\"T_2607b_row2_col7\" class=\"data row2 col7\" >0</td>\n",
       "      <td id=\"T_2607b_row2_col8\" class=\"data row2 col8\" >STON/O2. 3101282</td>\n",
       "      <td id=\"T_2607b_row2_col9\" class=\"data row2 col9\" >7.925000</td>\n",
       "      <td id=\"T_2607b_row2_col10\" class=\"data row2 col10\" >nan</td>\n",
       "      <td id=\"T_2607b_row2_col11\" class=\"data row2 col11\" >S</td>\n",
       "      <td id=\"T_2607b_row2_col12\" class=\"data row2 col12\" >112</td>\n",
       "      <td id=\"T_2607b_row2_col13\" class=\"data row2 col13\" >0</td>\n",
       "    </tr>\n",
       "    <tr>\n",
       "      <th id=\"T_2607b_level0_row3\" class=\"row_heading level0 row3\" >id_3</th>\n",
       "      <td id=\"T_2607b_row3_col0\" class=\"data row3 col0\" >4</td>\n",
       "      <td id=\"T_2607b_row3_col1\" class=\"data row3 col1\" >1</td>\n",
       "      <td id=\"T_2607b_row3_col2\" class=\"data row3 col2\" >female</td>\n",
       "      <td id=\"T_2607b_row3_col3\" class=\"data row3 col3\" >Futrelle, Mrs. Jacques Heath (Lily May Peel)</td>\n",
       "      <td id=\"T_2607b_row3_col4\" class=\"data row3 col4\" >female</td>\n",
       "      <td id=\"T_2607b_row3_col5\" class=\"data row3 col5\" >35.000000</td>\n",
       "      <td id=\"T_2607b_row3_col6\" class=\"data row3 col6\" >1</td>\n",
       "      <td id=\"T_2607b_row3_col7\" class=\"data row3 col7\" >0</td>\n",
       "      <td id=\"T_2607b_row3_col8\" class=\"data row3 col8\" >113803</td>\n",
       "      <td id=\"T_2607b_row3_col9\" class=\"data row3 col9\" >53.100000</td>\n",
       "      <td id=\"T_2607b_row3_col10\" class=\"data row3 col10\" >C123</td>\n",
       "      <td id=\"T_2607b_row3_col11\" class=\"data row3 col11\" >S</td>\n",
       "      <td id=\"T_2607b_row3_col12\" class=\"data row3 col12\" >112</td>\n",
       "      <td id=\"T_2607b_row3_col13\" class=\"data row3 col13\" >0</td>\n",
       "    </tr>\n",
       "    <tr>\n",
       "      <th id=\"T_2607b_level0_row4\" class=\"row_heading level0 row4\" >id_4</th>\n",
       "      <td id=\"T_2607b_row4_col0\" class=\"data row4 col0\" >5</td>\n",
       "      <td id=\"T_2607b_row4_col1\" class=\"data row4 col1\" >0</td>\n",
       "      <td id=\"T_2607b_row4_col2\" class=\"data row4 col2\" >male</td>\n",
       "      <td id=\"T_2607b_row4_col3\" class=\"data row4 col3\" >Allen, Mr. William Henry</td>\n",
       "      <td id=\"T_2607b_row4_col4\" class=\"data row4 col4\" >male</td>\n",
       "      <td id=\"T_2607b_row4_col5\" class=\"data row4 col5\" >35.000000</td>\n",
       "      <td id=\"T_2607b_row4_col6\" class=\"data row4 col6\" >0</td>\n",
       "      <td id=\"T_2607b_row4_col7\" class=\"data row4 col7\" >0</td>\n",
       "      <td id=\"T_2607b_row4_col8\" class=\"data row4 col8\" >373450</td>\n",
       "      <td id=\"T_2607b_row4_col9\" class=\"data row4 col9\" >8.050000</td>\n",
       "      <td id=\"T_2607b_row4_col10\" class=\"data row4 col10\" >nan</td>\n",
       "      <td id=\"T_2607b_row4_col11\" class=\"data row4 col11\" >S</td>\n",
       "      <td id=\"T_2607b_row4_col12\" class=\"data row4 col12\" >112</td>\n",
       "      <td id=\"T_2607b_row4_col13\" class=\"data row4 col13\" >1</td>\n",
       "    </tr>\n",
       "  </tbody>\n",
       "</table>\n"
      ],
      "text/plain": [
       "<pandas.io.formats.style.Styler at 0x2b57da4cbe0>"
      ]
     },
     "execution_count": 214,
     "metadata": {},
     "output_type": "execute_result"
    }
   ],
   "source": [
    "df.drop(columns='new_col_3').head(5).style.background_gradient()"
   ]
  },
  {
   "cell_type": "code",
   "execution_count": null,
   "id": "2b4aaaad",
   "metadata": {},
   "outputs": [],
   "source": []
  }
 ],
 "metadata": {
  "kernelspec": {
   "display_name": "Python 3 (ipykernel)",
   "language": "python",
   "name": "python3"
  },
  "language_info": {
   "codemirror_mode": {
    "name": "ipython",
    "version": 3
   },
   "file_extension": ".py",
   "mimetype": "text/x-python",
   "name": "python",
   "nbconvert_exporter": "python",
   "pygments_lexer": "ipython3",
   "version": "3.9.11"
  }
 },
 "nbformat": 4,
 "nbformat_minor": 5
}
